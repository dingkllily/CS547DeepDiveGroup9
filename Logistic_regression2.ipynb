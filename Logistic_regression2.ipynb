{
  "nbformat": 4,
  "nbformat_minor": 0,
  "metadata": {
    "colab": {
      "provenance": []
    },
    "kernelspec": {
      "name": "python3",
      "display_name": "Python 3"
    },
    "language_info": {
      "name": "python"
    }
  },
  "cells": [
    {
      "cell_type": "code",
      "source": [
        "import os\n",
        "import numpy\n",
        "import time\n",
        "import random\n",
        "import matplotlib\n",
        "import matplotlib.pyplot as plt\n",
        "import scipy.stats\n",
        "import matplotlib.offsetbox as offsetbox\n",
        "from matplotlib.ticker import StrMethodFormatter\n",
        "\n",
        "\n",
        "\n",
        "def saver(fname,dpi=600):\n",
        "    plt.savefig(fname+\".png\",bbox_inches=\"tight\",dpi=dpi)\n",
        "    \n",
        "def legend(pos=\"bottom\",ncol=3,extra=False):\n",
        "    if pos==\"bottom\":\n",
        "        extra = 0.15 if extra else 0\n",
        "        plt.legend(bbox_to_anchor=(0.5,-0.2-extra), loc='upper center',facecolor=\"lightgray\",ncol=ncol)\n",
        "    elif pos==\"side\":\n",
        "        plt.legend(bbox_to_anchor=(1.1,0.5), loc='center left',facecolor=\"lightgray\",ncol=1)\n",
        "        \n",
        "def textbox(txt,fname=None):\n",
        "    plt.figure(figsize=(1,1))\n",
        "    plt.gca().add_artist(offsetbox.AnchoredText(\"\\n\".join(txt), loc=\"center\",prop=dict(size=30)))\n",
        "    plt.axis('off')\n",
        "    if fname is not None:\n",
        "        saver(fname)\n",
        "    plt.show()\n",
        "    plt.close()"
      ],
      "metadata": {
        "id": "9SrRV3txz5A3"
      },
      "execution_count": 87,
      "outputs": []
    },
    {
      "cell_type": "code",
      "execution_count": 88,
      "metadata": {
        "colab": {
          "base_uri": "https://localhost:8080/",
          "height": 560
        },
        "id": "-HEjgvzevqs2",
        "outputId": "7d6aabfc-1fa8-4489-c020-a6d0bf0d24db"
      },
      "outputs": [
        {
          "output_type": "execute_result",
          "data": {
            "text/plain": [
              "       DR_NO               Date Rptd                DATE OCC  TIME OCC  AREA  \\\n",
              "0   10304468  01/08/2020 12:00:00 AM  01/08/2020 12:00:00 AM      2230     3   \n",
              "1  190101086  01/02/2020 12:00:00 AM  01/01/2020 12:00:00 AM       330     1   \n",
              "2  200110444  04/14/2020 12:00:00 AM  02/13/2020 12:00:00 AM      1200     1   \n",
              "3  191501505  01/01/2020 12:00:00 AM  01/01/2020 12:00:00 AM      1730    15   \n",
              "4  191921269  01/01/2020 12:00:00 AM  01/01/2020 12:00:00 AM       415    19   \n",
              "\n",
              "     AREA NAME  Rpt Dist No  Part 1-2  Crm Cd  \\\n",
              "0    Southwest          377         2     624   \n",
              "1      Central          163         2     624   \n",
              "2      Central          155         2     845   \n",
              "3  N Hollywood         1543         2     745   \n",
              "4      Mission         1998         2     740   \n",
              "\n",
              "                                         Crm Cd Desc  ... Status  \\\n",
              "0                           BATTERY - SIMPLE ASSAULT  ...     AO   \n",
              "1                           BATTERY - SIMPLE ASSAULT  ...     IC   \n",
              "2          SEX OFFENDER REGISTRANT OUT OF COMPLIANCE  ...     AA   \n",
              "3           VANDALISM - MISDEAMEANOR ($399 OR UNDER)  ...     IC   \n",
              "4  VANDALISM - FELONY ($400 & OVER, ALL CHURCH VA...  ...     IC   \n",
              "\n",
              "    Status Desc Crm Cd 1 Crm Cd 2  Crm Cd 3 Crm Cd 4  \\\n",
              "0   Adult Other    624.0      NaN       NaN      NaN   \n",
              "1   Invest Cont    624.0      NaN       NaN      NaN   \n",
              "2  Adult Arrest    845.0      NaN       NaN      NaN   \n",
              "3   Invest Cont    745.0    998.0       NaN      NaN   \n",
              "4   Invest Cont    740.0      NaN       NaN      NaN   \n",
              "\n",
              "                                   LOCATION Cross Street      LAT       LON  \n",
              "0   1100 W  39TH                         PL          NaN  34.0141 -118.2978  \n",
              "1    700 S  HILL                         ST          NaN  34.0459 -118.2545  \n",
              "2    200 E  6TH                          ST          NaN  34.0448 -118.2474  \n",
              "3   5400    CORTEEN                      PL          NaN  34.1685 -118.4019  \n",
              "4  14400    TITUS                        ST          NaN  34.2198 -118.4468  \n",
              "\n",
              "[5 rows x 28 columns]"
            ],
            "text/html": [
              "\n",
              "  <div id=\"df-054409dd-8b59-420f-be2a-e4de36eb61ab\">\n",
              "    <div class=\"colab-df-container\">\n",
              "      <div>\n",
              "<style scoped>\n",
              "    .dataframe tbody tr th:only-of-type {\n",
              "        vertical-align: middle;\n",
              "    }\n",
              "\n",
              "    .dataframe tbody tr th {\n",
              "        vertical-align: top;\n",
              "    }\n",
              "\n",
              "    .dataframe thead th {\n",
              "        text-align: right;\n",
              "    }\n",
              "</style>\n",
              "<table border=\"1\" class=\"dataframe\">\n",
              "  <thead>\n",
              "    <tr style=\"text-align: right;\">\n",
              "      <th></th>\n",
              "      <th>DR_NO</th>\n",
              "      <th>Date Rptd</th>\n",
              "      <th>DATE OCC</th>\n",
              "      <th>TIME OCC</th>\n",
              "      <th>AREA</th>\n",
              "      <th>AREA NAME</th>\n",
              "      <th>Rpt Dist No</th>\n",
              "      <th>Part 1-2</th>\n",
              "      <th>Crm Cd</th>\n",
              "      <th>Crm Cd Desc</th>\n",
              "      <th>...</th>\n",
              "      <th>Status</th>\n",
              "      <th>Status Desc</th>\n",
              "      <th>Crm Cd 1</th>\n",
              "      <th>Crm Cd 2</th>\n",
              "      <th>Crm Cd 3</th>\n",
              "      <th>Crm Cd 4</th>\n",
              "      <th>LOCATION</th>\n",
              "      <th>Cross Street</th>\n",
              "      <th>LAT</th>\n",
              "      <th>LON</th>\n",
              "    </tr>\n",
              "  </thead>\n",
              "  <tbody>\n",
              "    <tr>\n",
              "      <th>0</th>\n",
              "      <td>10304468</td>\n",
              "      <td>01/08/2020 12:00:00 AM</td>\n",
              "      <td>01/08/2020 12:00:00 AM</td>\n",
              "      <td>2230</td>\n",
              "      <td>3</td>\n",
              "      <td>Southwest</td>\n",
              "      <td>377</td>\n",
              "      <td>2</td>\n",
              "      <td>624</td>\n",
              "      <td>BATTERY - SIMPLE ASSAULT</td>\n",
              "      <td>...</td>\n",
              "      <td>AO</td>\n",
              "      <td>Adult Other</td>\n",
              "      <td>624.0</td>\n",
              "      <td>NaN</td>\n",
              "      <td>NaN</td>\n",
              "      <td>NaN</td>\n",
              "      <td>1100 W  39TH                         PL</td>\n",
              "      <td>NaN</td>\n",
              "      <td>34.0141</td>\n",
              "      <td>-118.2978</td>\n",
              "    </tr>\n",
              "    <tr>\n",
              "      <th>1</th>\n",
              "      <td>190101086</td>\n",
              "      <td>01/02/2020 12:00:00 AM</td>\n",
              "      <td>01/01/2020 12:00:00 AM</td>\n",
              "      <td>330</td>\n",
              "      <td>1</td>\n",
              "      <td>Central</td>\n",
              "      <td>163</td>\n",
              "      <td>2</td>\n",
              "      <td>624</td>\n",
              "      <td>BATTERY - SIMPLE ASSAULT</td>\n",
              "      <td>...</td>\n",
              "      <td>IC</td>\n",
              "      <td>Invest Cont</td>\n",
              "      <td>624.0</td>\n",
              "      <td>NaN</td>\n",
              "      <td>NaN</td>\n",
              "      <td>NaN</td>\n",
              "      <td>700 S  HILL                         ST</td>\n",
              "      <td>NaN</td>\n",
              "      <td>34.0459</td>\n",
              "      <td>-118.2545</td>\n",
              "    </tr>\n",
              "    <tr>\n",
              "      <th>2</th>\n",
              "      <td>200110444</td>\n",
              "      <td>04/14/2020 12:00:00 AM</td>\n",
              "      <td>02/13/2020 12:00:00 AM</td>\n",
              "      <td>1200</td>\n",
              "      <td>1</td>\n",
              "      <td>Central</td>\n",
              "      <td>155</td>\n",
              "      <td>2</td>\n",
              "      <td>845</td>\n",
              "      <td>SEX OFFENDER REGISTRANT OUT OF COMPLIANCE</td>\n",
              "      <td>...</td>\n",
              "      <td>AA</td>\n",
              "      <td>Adult Arrest</td>\n",
              "      <td>845.0</td>\n",
              "      <td>NaN</td>\n",
              "      <td>NaN</td>\n",
              "      <td>NaN</td>\n",
              "      <td>200 E  6TH                          ST</td>\n",
              "      <td>NaN</td>\n",
              "      <td>34.0448</td>\n",
              "      <td>-118.2474</td>\n",
              "    </tr>\n",
              "    <tr>\n",
              "      <th>3</th>\n",
              "      <td>191501505</td>\n",
              "      <td>01/01/2020 12:00:00 AM</td>\n",
              "      <td>01/01/2020 12:00:00 AM</td>\n",
              "      <td>1730</td>\n",
              "      <td>15</td>\n",
              "      <td>N Hollywood</td>\n",
              "      <td>1543</td>\n",
              "      <td>2</td>\n",
              "      <td>745</td>\n",
              "      <td>VANDALISM - MISDEAMEANOR ($399 OR UNDER)</td>\n",
              "      <td>...</td>\n",
              "      <td>IC</td>\n",
              "      <td>Invest Cont</td>\n",
              "      <td>745.0</td>\n",
              "      <td>998.0</td>\n",
              "      <td>NaN</td>\n",
              "      <td>NaN</td>\n",
              "      <td>5400    CORTEEN                      PL</td>\n",
              "      <td>NaN</td>\n",
              "      <td>34.1685</td>\n",
              "      <td>-118.4019</td>\n",
              "    </tr>\n",
              "    <tr>\n",
              "      <th>4</th>\n",
              "      <td>191921269</td>\n",
              "      <td>01/01/2020 12:00:00 AM</td>\n",
              "      <td>01/01/2020 12:00:00 AM</td>\n",
              "      <td>415</td>\n",
              "      <td>19</td>\n",
              "      <td>Mission</td>\n",
              "      <td>1998</td>\n",
              "      <td>2</td>\n",
              "      <td>740</td>\n",
              "      <td>VANDALISM - FELONY ($400 &amp; OVER, ALL CHURCH VA...</td>\n",
              "      <td>...</td>\n",
              "      <td>IC</td>\n",
              "      <td>Invest Cont</td>\n",
              "      <td>740.0</td>\n",
              "      <td>NaN</td>\n",
              "      <td>NaN</td>\n",
              "      <td>NaN</td>\n",
              "      <td>14400    TITUS                        ST</td>\n",
              "      <td>NaN</td>\n",
              "      <td>34.2198</td>\n",
              "      <td>-118.4468</td>\n",
              "    </tr>\n",
              "  </tbody>\n",
              "</table>\n",
              "<p>5 rows × 28 columns</p>\n",
              "</div>\n",
              "      <button class=\"colab-df-convert\" onclick=\"convertToInteractive('df-054409dd-8b59-420f-be2a-e4de36eb61ab')\"\n",
              "              title=\"Convert this dataframe to an interactive table.\"\n",
              "              style=\"display:none;\">\n",
              "        \n",
              "  <svg xmlns=\"http://www.w3.org/2000/svg\" height=\"24px\"viewBox=\"0 0 24 24\"\n",
              "       width=\"24px\">\n",
              "    <path d=\"M0 0h24v24H0V0z\" fill=\"none\"/>\n",
              "    <path d=\"M18.56 5.44l.94 2.06.94-2.06 2.06-.94-2.06-.94-.94-2.06-.94 2.06-2.06.94zm-11 1L8.5 8.5l.94-2.06 2.06-.94-2.06-.94L8.5 2.5l-.94 2.06-2.06.94zm10 10l.94 2.06.94-2.06 2.06-.94-2.06-.94-.94-2.06-.94 2.06-2.06.94z\"/><path d=\"M17.41 7.96l-1.37-1.37c-.4-.4-.92-.59-1.43-.59-.52 0-1.04.2-1.43.59L10.3 9.45l-7.72 7.72c-.78.78-.78 2.05 0 2.83L4 21.41c.39.39.9.59 1.41.59.51 0 1.02-.2 1.41-.59l7.78-7.78 2.81-2.81c.8-.78.8-2.07 0-2.86zM5.41 20L4 18.59l7.72-7.72 1.47 1.35L5.41 20z\"/>\n",
              "  </svg>\n",
              "      </button>\n",
              "      \n",
              "  <style>\n",
              "    .colab-df-container {\n",
              "      display:flex;\n",
              "      flex-wrap:wrap;\n",
              "      gap: 12px;\n",
              "    }\n",
              "\n",
              "    .colab-df-convert {\n",
              "      background-color: #E8F0FE;\n",
              "      border: none;\n",
              "      border-radius: 50%;\n",
              "      cursor: pointer;\n",
              "      display: none;\n",
              "      fill: #1967D2;\n",
              "      height: 32px;\n",
              "      padding: 0 0 0 0;\n",
              "      width: 32px;\n",
              "    }\n",
              "\n",
              "    .colab-df-convert:hover {\n",
              "      background-color: #E2EBFA;\n",
              "      box-shadow: 0px 1px 2px rgba(60, 64, 67, 0.3), 0px 1px 3px 1px rgba(60, 64, 67, 0.15);\n",
              "      fill: #174EA6;\n",
              "    }\n",
              "\n",
              "    [theme=dark] .colab-df-convert {\n",
              "      background-color: #3B4455;\n",
              "      fill: #D2E3FC;\n",
              "    }\n",
              "\n",
              "    [theme=dark] .colab-df-convert:hover {\n",
              "      background-color: #434B5C;\n",
              "      box-shadow: 0px 1px 3px 1px rgba(0, 0, 0, 0.15);\n",
              "      filter: drop-shadow(0px 1px 2px rgba(0, 0, 0, 0.3));\n",
              "      fill: #FFFFFF;\n",
              "    }\n",
              "  </style>\n",
              "\n",
              "      <script>\n",
              "        const buttonEl =\n",
              "          document.querySelector('#df-054409dd-8b59-420f-be2a-e4de36eb61ab button.colab-df-convert');\n",
              "        buttonEl.style.display =\n",
              "          google.colab.kernel.accessAllowed ? 'block' : 'none';\n",
              "\n",
              "        async function convertToInteractive(key) {\n",
              "          const element = document.querySelector('#df-054409dd-8b59-420f-be2a-e4de36eb61ab');\n",
              "          const dataTable =\n",
              "            await google.colab.kernel.invokeFunction('convertToInteractive',\n",
              "                                                     [key], {});\n",
              "          if (!dataTable) return;\n",
              "\n",
              "          const docLinkHtml = 'Like what you see? Visit the ' +\n",
              "            '<a target=\"_blank\" href=https://colab.research.google.com/notebooks/data_table.ipynb>data table notebook</a>'\n",
              "            + ' to learn more about interactive tables.';\n",
              "          element.innerHTML = '';\n",
              "          dataTable['output_type'] = 'display_data';\n",
              "          await google.colab.output.renderOutput(dataTable, element);\n",
              "          const docLink = document.createElement('div');\n",
              "          docLink.innerHTML = docLinkHtml;\n",
              "          element.appendChild(docLink);\n",
              "        }\n",
              "      </script>\n",
              "    </div>\n",
              "  </div>\n",
              "  "
            ]
          },
          "metadata": {},
          "execution_count": 88
        }
      ],
      "source": [
        "import pandas as pd\n",
        "def getfile(location_pair,**kwargs): #tries to get local version and then defaults to google drive version\n",
        "    (loc,gdrive)=location_pair\n",
        "    try:\n",
        "        out=pd.read_csv(loc,**kwargs)\n",
        "    except FileNotFoundError:\n",
        "        print(\"local file not found; accessing Google Drive\")\n",
        "        loc = 'https://drive.google.com/uc?export=download&id='+gdrive.split('/')[-2]\n",
        "        out= pd.read_csv(loc,**kwargs)\n",
        "    return out\n",
        "\n",
        "import urllib\n",
        "def getLargeFile(location_pair,**kwargs): #tries to get local version and then defaults to google drive version\n",
        "    (loc,gdrive)=location_pair\n",
        "    try:\n",
        "        out=pd.read_csv(loc,**kwargs)\n",
        "    except FileNotFoundError:\n",
        "        print(\"local file not found; accessing Google Drive\")\n",
        "        url = gdrive\n",
        "        urllib.request.urlretrieve(gdrive, loc)\n",
        "        out= pd.read_csv(loc,**kwargs)\n",
        "    return out\n",
        "\n",
        "fname = (\"Crime_Data_from_2020_to_Present.csv\", \n",
        "         \"https://drive.google.com/u/0/uc?id=1WwLkX_BADtPY83rFQ4CQ5Lbf6UcI055A&export=download&confirm=t&uuid=4e0aae58-2f5b-4420-941f-8f2f49ae0cb8&at=ALAFpqzX_FrSz-hUtqhaXe2ui7h6:1667673013562\")\n",
        "data = getLargeFile(fname)\n",
        "data.head()"
      ]
    },
    {
      "cell_type": "markdown",
      "source": [
        "### Problem  Description\n",
        "\n",
        "* Purpose: From the initial analysis, we find that `TIME OCC`,and `Vict Age` are some of important features that affects the label `Victim Sex`. Therefore, by using this logist regression model, we want to discuss the relation between these features and the number of crimes.\n",
        "* Features:\n",
        "  * Scalar Features:\n",
        "    * Victim Age\n",
        "    * Latitude\n",
        "    * Longitude\n",
        "\n",
        "  * Categorical Features:\n",
        "    * Victim Sex (F, M, X, H)\n",
        "\n",
        "* Target: Based on the feature of `TIME OCC`,and `Vict Age`, to predict the gender of the future `Victim Sex`\n",
        "* Problem Type: supervised learning + regression"
      ],
      "metadata": {
        "id": "1QR7Lz26FMox"
      }
    },
    {
      "cell_type": "code",
      "source": [
        "data=data.drop(['DR_NO', 'Date Rptd', 'DATE OCC', 'AREA', 'AREA NAME',\n",
        "       'Rpt Dist No', 'Part 1-2', 'Crm Cd', 'Crm Cd Desc', 'Mocodes', 'Premis Cd', 'Premis Desc',\n",
        "       'Weapon Used Cd', 'Weapon Desc', 'Status', 'Status Desc', 'Crm Cd 1',\n",
        "        'Crm Cd 2', 'Crm Cd 3', 'Crm Cd 4', 'LOCATION', 'Cross Street', 'LAT','LON','Vict Descent'],axis=1)\n",
        "data"
      ],
      "metadata": {
        "colab": {
          "base_uri": "https://localhost:8080/",
          "height": 424
        },
        "id": "CkBXUP5Jv0W7",
        "outputId": "4faa256d-3067-4e79-ce15-3444f253a6c6"
      },
      "execution_count": 89,
      "outputs": [
        {
          "output_type": "execute_result",
          "data": {
            "text/plain": [
              "        TIME OCC  Vict Age Vict Sex\n",
              "0           2230        36        F\n",
              "1            330        25        M\n",
              "2           1200         0        X\n",
              "3           1730        76        F\n",
              "4            415        31        X\n",
              "...          ...       ...      ...\n",
              "590827      1900        57        F\n",
              "590828        10        34        F\n",
              "590829      1530         0      NaN\n",
              "590830      2000         0      NaN\n",
              "590831      1800        61        F\n",
              "\n",
              "[590832 rows x 3 columns]"
            ],
            "text/html": [
              "\n",
              "  <div id=\"df-20587859-fa28-4c45-be80-8cc4704ac290\">\n",
              "    <div class=\"colab-df-container\">\n",
              "      <div>\n",
              "<style scoped>\n",
              "    .dataframe tbody tr th:only-of-type {\n",
              "        vertical-align: middle;\n",
              "    }\n",
              "\n",
              "    .dataframe tbody tr th {\n",
              "        vertical-align: top;\n",
              "    }\n",
              "\n",
              "    .dataframe thead th {\n",
              "        text-align: right;\n",
              "    }\n",
              "</style>\n",
              "<table border=\"1\" class=\"dataframe\">\n",
              "  <thead>\n",
              "    <tr style=\"text-align: right;\">\n",
              "      <th></th>\n",
              "      <th>TIME OCC</th>\n",
              "      <th>Vict Age</th>\n",
              "      <th>Vict Sex</th>\n",
              "    </tr>\n",
              "  </thead>\n",
              "  <tbody>\n",
              "    <tr>\n",
              "      <th>0</th>\n",
              "      <td>2230</td>\n",
              "      <td>36</td>\n",
              "      <td>F</td>\n",
              "    </tr>\n",
              "    <tr>\n",
              "      <th>1</th>\n",
              "      <td>330</td>\n",
              "      <td>25</td>\n",
              "      <td>M</td>\n",
              "    </tr>\n",
              "    <tr>\n",
              "      <th>2</th>\n",
              "      <td>1200</td>\n",
              "      <td>0</td>\n",
              "      <td>X</td>\n",
              "    </tr>\n",
              "    <tr>\n",
              "      <th>3</th>\n",
              "      <td>1730</td>\n",
              "      <td>76</td>\n",
              "      <td>F</td>\n",
              "    </tr>\n",
              "    <tr>\n",
              "      <th>4</th>\n",
              "      <td>415</td>\n",
              "      <td>31</td>\n",
              "      <td>X</td>\n",
              "    </tr>\n",
              "    <tr>\n",
              "      <th>...</th>\n",
              "      <td>...</td>\n",
              "      <td>...</td>\n",
              "      <td>...</td>\n",
              "    </tr>\n",
              "    <tr>\n",
              "      <th>590827</th>\n",
              "      <td>1900</td>\n",
              "      <td>57</td>\n",
              "      <td>F</td>\n",
              "    </tr>\n",
              "    <tr>\n",
              "      <th>590828</th>\n",
              "      <td>10</td>\n",
              "      <td>34</td>\n",
              "      <td>F</td>\n",
              "    </tr>\n",
              "    <tr>\n",
              "      <th>590829</th>\n",
              "      <td>1530</td>\n",
              "      <td>0</td>\n",
              "      <td>NaN</td>\n",
              "    </tr>\n",
              "    <tr>\n",
              "      <th>590830</th>\n",
              "      <td>2000</td>\n",
              "      <td>0</td>\n",
              "      <td>NaN</td>\n",
              "    </tr>\n",
              "    <tr>\n",
              "      <th>590831</th>\n",
              "      <td>1800</td>\n",
              "      <td>61</td>\n",
              "      <td>F</td>\n",
              "    </tr>\n",
              "  </tbody>\n",
              "</table>\n",
              "<p>590832 rows × 3 columns</p>\n",
              "</div>\n",
              "      <button class=\"colab-df-convert\" onclick=\"convertToInteractive('df-20587859-fa28-4c45-be80-8cc4704ac290')\"\n",
              "              title=\"Convert this dataframe to an interactive table.\"\n",
              "              style=\"display:none;\">\n",
              "        \n",
              "  <svg xmlns=\"http://www.w3.org/2000/svg\" height=\"24px\"viewBox=\"0 0 24 24\"\n",
              "       width=\"24px\">\n",
              "    <path d=\"M0 0h24v24H0V0z\" fill=\"none\"/>\n",
              "    <path d=\"M18.56 5.44l.94 2.06.94-2.06 2.06-.94-2.06-.94-.94-2.06-.94 2.06-2.06.94zm-11 1L8.5 8.5l.94-2.06 2.06-.94-2.06-.94L8.5 2.5l-.94 2.06-2.06.94zm10 10l.94 2.06.94-2.06 2.06-.94-2.06-.94-.94-2.06-.94 2.06-2.06.94z\"/><path d=\"M17.41 7.96l-1.37-1.37c-.4-.4-.92-.59-1.43-.59-.52 0-1.04.2-1.43.59L10.3 9.45l-7.72 7.72c-.78.78-.78 2.05 0 2.83L4 21.41c.39.39.9.59 1.41.59.51 0 1.02-.2 1.41-.59l7.78-7.78 2.81-2.81c.8-.78.8-2.07 0-2.86zM5.41 20L4 18.59l7.72-7.72 1.47 1.35L5.41 20z\"/>\n",
              "  </svg>\n",
              "      </button>\n",
              "      \n",
              "  <style>\n",
              "    .colab-df-container {\n",
              "      display:flex;\n",
              "      flex-wrap:wrap;\n",
              "      gap: 12px;\n",
              "    }\n",
              "\n",
              "    .colab-df-convert {\n",
              "      background-color: #E8F0FE;\n",
              "      border: none;\n",
              "      border-radius: 50%;\n",
              "      cursor: pointer;\n",
              "      display: none;\n",
              "      fill: #1967D2;\n",
              "      height: 32px;\n",
              "      padding: 0 0 0 0;\n",
              "      width: 32px;\n",
              "    }\n",
              "\n",
              "    .colab-df-convert:hover {\n",
              "      background-color: #E2EBFA;\n",
              "      box-shadow: 0px 1px 2px rgba(60, 64, 67, 0.3), 0px 1px 3px 1px rgba(60, 64, 67, 0.15);\n",
              "      fill: #174EA6;\n",
              "    }\n",
              "\n",
              "    [theme=dark] .colab-df-convert {\n",
              "      background-color: #3B4455;\n",
              "      fill: #D2E3FC;\n",
              "    }\n",
              "\n",
              "    [theme=dark] .colab-df-convert:hover {\n",
              "      background-color: #434B5C;\n",
              "      box-shadow: 0px 1px 3px 1px rgba(0, 0, 0, 0.15);\n",
              "      filter: drop-shadow(0px 1px 2px rgba(0, 0, 0, 0.3));\n",
              "      fill: #FFFFFF;\n",
              "    }\n",
              "  </style>\n",
              "\n",
              "      <script>\n",
              "        const buttonEl =\n",
              "          document.querySelector('#df-20587859-fa28-4c45-be80-8cc4704ac290 button.colab-df-convert');\n",
              "        buttonEl.style.display =\n",
              "          google.colab.kernel.accessAllowed ? 'block' : 'none';\n",
              "\n",
              "        async function convertToInteractive(key) {\n",
              "          const element = document.querySelector('#df-20587859-fa28-4c45-be80-8cc4704ac290');\n",
              "          const dataTable =\n",
              "            await google.colab.kernel.invokeFunction('convertToInteractive',\n",
              "                                                     [key], {});\n",
              "          if (!dataTable) return;\n",
              "\n",
              "          const docLinkHtml = 'Like what you see? Visit the ' +\n",
              "            '<a target=\"_blank\" href=https://colab.research.google.com/notebooks/data_table.ipynb>data table notebook</a>'\n",
              "            + ' to learn more about interactive tables.';\n",
              "          element.innerHTML = '';\n",
              "          dataTable['output_type'] = 'display_data';\n",
              "          await google.colab.output.renderOutput(dataTable, element);\n",
              "          const docLink = document.createElement('div');\n",
              "          docLink.innerHTML = docLinkHtml;\n",
              "          element.appendChild(docLink);\n",
              "        }\n",
              "      </script>\n",
              "    </div>\n",
              "  </div>\n",
              "  "
            ]
          },
          "metadata": {},
          "execution_count": 89
        }
      ]
    },
    {
      "cell_type": "code",
      "source": [
        "data.dropna(inplace=True,how='any') \n"
      ],
      "metadata": {
        "id": "8SSbihX3zTz4"
      },
      "execution_count": 90,
      "outputs": []
    },
    {
      "cell_type": "code",
      "source": [
        "data['TIME OCC']"
      ],
      "metadata": {
        "colab": {
          "base_uri": "https://localhost:8080/"
        },
        "id": "AfhbDt2c1dbh",
        "outputId": "ec55bb9b-f398-41d4-f20e-de68f26248e1"
      },
      "execution_count": 91,
      "outputs": [
        {
          "output_type": "execute_result",
          "data": {
            "text/plain": [
              "0         2230\n",
              "1          330\n",
              "2         1200\n",
              "3         1730\n",
              "4          415\n",
              "          ... \n",
              "590825    1400\n",
              "590826    1730\n",
              "590827    1900\n",
              "590828      10\n",
              "590831    1800\n",
              "Name: TIME OCC, Length: 512674, dtype: int64"
            ]
          },
          "metadata": {},
          "execution_count": 91
        }
      ]
    },
    {
      "cell_type": "code",
      "source": [
        "data['Vict Sex']"
      ],
      "metadata": {
        "colab": {
          "base_uri": "https://localhost:8080/"
        },
        "id": "sRKgNkQ-zPEk",
        "outputId": "f3cba38f-c4f2-4121-9854-d916d59b1bb2"
      },
      "execution_count": 92,
      "outputs": [
        {
          "output_type": "execute_result",
          "data": {
            "text/plain": [
              "0         F\n",
              "1         M\n",
              "2         X\n",
              "3         F\n",
              "4         X\n",
              "         ..\n",
              "590825    M\n",
              "590826    M\n",
              "590827    F\n",
              "590828    F\n",
              "590831    F\n",
              "Name: Vict Sex, Length: 512674, dtype: object"
            ]
          },
          "metadata": {},
          "execution_count": 92
        }
      ]
    },
    {
      "cell_type": "code",
      "source": [
        "data['Vict Age']"
      ],
      "metadata": {
        "colab": {
          "base_uri": "https://localhost:8080/"
        },
        "id": "JOYmza_xzaZM",
        "outputId": "6968a0a4-1132-4d16-95f6-cb01c4ec7aca"
      },
      "execution_count": 93,
      "outputs": [
        {
          "output_type": "execute_result",
          "data": {
            "text/plain": [
              "0         36\n",
              "1         25\n",
              "2          0\n",
              "3         76\n",
              "4         31\n",
              "          ..\n",
              "590825    46\n",
              "590826    33\n",
              "590827    57\n",
              "590828    34\n",
              "590831    61\n",
              "Name: Vict Age, Length: 512674, dtype: int64"
            ]
          },
          "metadata": {},
          "execution_count": 93
        }
      ]
    },
    {
      "cell_type": "code",
      "source": [
        "print (data.describe())"
      ],
      "metadata": {
        "colab": {
          "base_uri": "https://localhost:8080/"
        },
        "id": "INd-w59lzgVY",
        "outputId": "05d35fe0-bf4e-43f5-d747-db545d917124"
      },
      "execution_count": 94,
      "outputs": [
        {
          "output_type": "stream",
          "name": "stdout",
          "text": [
            "            TIME OCC       Vict Age\n",
            "count  512674.000000  512674.000000\n",
            "mean     1322.120892      34.542992\n",
            "std       654.746483      19.591708\n",
            "min         1.000000      -1.000000\n",
            "25%       900.000000      24.000000\n",
            "50%      1400.000000      34.000000\n",
            "75%      1845.000000      48.000000\n",
            "max      2359.000000      99.000000\n"
          ]
        }
      ]
    },
    {
      "cell_type": "code",
      "source": [
        "data.drop(data[data['Vict Age'] < 1].index, axis=0, inplace=True)"
      ],
      "metadata": {
        "id": "euiiuXipzi1y"
      },
      "execution_count": 95,
      "outputs": []
    },
    {
      "cell_type": "code",
      "source": [
        "t = pd.crosstab(index=data['Vict Sex'], columns=data['Vict Age'],margins=True)\n",
        "print(t)"
      ],
      "metadata": {
        "colab": {
          "base_uri": "https://localhost:8080/"
        },
        "id": "GNaQRUe2zlH2",
        "outputId": "803dc5ab-b19d-4f9b-c662-02ce63d917a5"
      },
      "execution_count": 96,
      "outputs": [
        {
          "output_type": "stream",
          "name": "stdout",
          "text": [
            "Vict Age    2    3    4    5    6    7    8    9   10   11  ...   91   92  93  \\\n",
            "Vict Sex                                                    ...                 \n",
            "F         116  146  182  192  176  201  205  248  268  427  ...   90   68  44   \n",
            "H           0    0    0    0    0    1    0    0    0    0  ...    0    0   0   \n",
            "M         147  145  145  170  169  159  163  190  198  275  ...   52   30  26   \n",
            "X          10   10    4    3    1    7    3    6   19    7  ...    2    2   0   \n",
            "All       273  301  331  365  346  368  371  444  485  709  ...  144  100  70   \n",
            "\n",
            "Vict Age  94  95  96  97  98   99     All  \n",
            "Vict Sex                                   \n",
            "F         49  36  31  23  21  100  215220  \n",
            "H          0   0   0   0   0    0      64  \n",
            "M         23  24  22  15  22  105  227350  \n",
            "X          1   0   0   0   2    3    4912  \n",
            "All       73  60  53  38  45  208  447546  \n",
            "\n",
            "[5 rows x 99 columns]\n"
          ]
        }
      ]
    },
    {
      "cell_type": "code",
      "source": [
        "featuredata=[(\"TIME OCC\",\"Occurrence of time\"),(\"Vict Age\",\"Age of victim\")]\n",
        "classname=\"Vict Sex\"\n",
        "classdata=[(\"H\",0),(\"X\",1),(\"F\",2),(\"M\",3)]"
      ],
      "metadata": {
        "id": "aGOZdg9xytVt"
      },
      "execution_count": 97,
      "outputs": []
    },
    {
      "cell_type": "code",
      "source": [
        "idx=pd.IndexSlice\n"
      ],
      "metadata": {
        "id": "r8VAbf3H0Hpx"
      },
      "execution_count": 98,
      "outputs": []
    },
    {
      "cell_type": "code",
      "source": [
        "text=[]\n",
        "text.append(\"Features:\")\n",
        "for _,f in featuredata:\n",
        "    text.append(\"    {0:s}\".format(f))\n",
        "text.append(\"Labels: \")\n",
        "for c,n in classdata:\n",
        "    text.append(\"   {0:s}={1:s}: Class {2:n}\".format(classname,c,n))\n",
        "textbox(text,fname=\"multiclass\")"
      ],
      "metadata": {
        "colab": {
          "base_uri": "https://localhost:8080/",
          "height": 319
        },
        "id": "fugxF-l9zpsy",
        "outputId": "76c00cef-4df1-4195-920c-6a54fcb7fd62"
      },
      "execution_count": 99,
      "outputs": [
        {
          "output_type": "display_data",
          "data": {
            "text/plain": [
              "<Figure size 72x72 with 1 Axes>"
            ],
            "image/png": "[encoded data removed]"
          },
          "metadata": {
            "needs_background": "light"
          }
        }
      ]
    },
    {
      "cell_type": "code",
      "source": [
        "classname"
      ],
      "metadata": {
        "colab": {
          "base_uri": "https://localhost:8080/",
          "height": 35
        },
        "id": "iPxIzKsQ5eZc",
        "outputId": "cb44e98f-e631-4740-b957-4ade641e567d"
      },
      "execution_count": 31,
      "outputs": [
        {
          "output_type": "execute_result",
          "data": {
            "text/plain": [
              "'Vict Sex'"
            ],
            "application/vnd.google.colaboratory.intrinsic+json": {
              "type": "string"
            }
          },
          "metadata": {},
          "execution_count": 31
        }
      ]
    },
    {
      "cell_type": "code",
      "source": [
        "(features,revisedfeaturenames)=list(zip(*featuredata))"
      ],
      "metadata": {
        "id": "klFD1MFz0UVH"
      },
      "execution_count": 20,
      "outputs": []
    },
    {
      "cell_type": "code",
      "source": [
        "featuredata"
      ],
      "metadata": {
        "colab": {
          "base_uri": "https://localhost:8080/"
        },
        "id": "MWPf3jh03Hxz",
        "outputId": "6518008b-3053-4d46-974e-17821ef69609"
      },
      "execution_count": 21,
      "outputs": [
        {
          "output_type": "execute_result",
          "data": {
            "text/plain": [
              "[('TIME OCC', 'Occurrence of time'), ('Vict Age', 'Age of victim')]"
            ]
          },
          "metadata": {},
          "execution_count": 21
        }
      ]
    },
    {
      "cell_type": "code",
      "source": [
        "XY=pd.DataFrame(0,index=data.index,columns=pd.MultiIndex.from_product([[\"feature\"],revisedfeaturenames]))\n",
        "for (fname,revisedfeaturename) in featuredata:\n",
        "    XY[(\"feature\",revisedfeaturename)]=data[fname]\n",
        "\n",
        "\n",
        "XY[(\"label\",\"Sex type\")]=numpy.nan\n",
        "for cname,cvalue in classdata:\n",
        "    XY.loc[data[classname]==cname,(\"label\",\"Sex type\")]=cvalue\n",
        "\n",
        "\n",
        "beforedrop=XY.shape[0]\n",
        "XY=XY.dropna(axis='index')\n",
        "afterdrop=XY.shape[0]\n",
        "print(\"{0:d} records dropped\".format(beforedrop-afterdrop))\n",
        "XY[(\"label\",\"Sex type\")]=XY[(\"label\",\"Sex type\")].astype(numpy.int)\n",
        "XY.head()"
      ],
      "metadata": {
        "colab": {
          "base_uri": "https://localhost:8080/",
          "height": 327
        },
        "id": "4c2D1Snw2U-m",
        "outputId": "60394492-90d4-4ca8-d676-6b728b7036f4"
      },
      "execution_count": 100,
      "outputs": [
        {
          "output_type": "stream",
          "name": "stdout",
          "text": [
            "0 records dropped\n"
          ]
        },
        {
          "output_type": "stream",
          "name": "stderr",
          "text": [
            "<ipython-input-100-48246f54add3>:15: DeprecationWarning: `np.int` is a deprecated alias for the builtin `int`. To silence this warning, use `int` by itself. Doing this will not modify any behavior and is safe. When replacing `np.int`, you may wish to use e.g. `np.int64` or `np.int32` to specify the precision. If you wish to review your current use, check the release note link for additional information.\n",
            "Deprecated in NumPy 1.20; for more details and guidance: https://numpy.org/devdocs/release/1.20.0-notes.html#deprecations\n",
            "  XY[(\"label\",\"Sex type\")]=XY[(\"label\",\"Sex type\")].astype(numpy.int)\n"
          ]
        },
        {
          "output_type": "execute_result",
          "data": {
            "text/plain": [
              "             feature                  label\n",
              "  Occurrence of time Age of victim Sex type\n",
              "0               2230            36        2\n",
              "1                330            25        3\n",
              "3               1730            76        2\n",
              "4                415            31        1\n",
              "5                 30            25        2"
            ],
            "text/html": [
              "\n",
              "  <div id=\"df-48ed002b-c18e-417d-99b2-4055ec41ea90\">\n",
              "    <div class=\"colab-df-container\">\n",
              "      <div>\n",
              "<style scoped>\n",
              "    .dataframe tbody tr th:only-of-type {\n",
              "        vertical-align: middle;\n",
              "    }\n",
              "\n",
              "    .dataframe tbody tr th {\n",
              "        vertical-align: top;\n",
              "    }\n",
              "\n",
              "    .dataframe thead tr th {\n",
              "        text-align: left;\n",
              "    }\n",
              "</style>\n",
              "<table border=\"1\" class=\"dataframe\">\n",
              "  <thead>\n",
              "    <tr>\n",
              "      <th></th>\n",
              "      <th colspan=\"2\" halign=\"left\">feature</th>\n",
              "      <th>label</th>\n",
              "    </tr>\n",
              "    <tr>\n",
              "      <th></th>\n",
              "      <th>Occurrence of time</th>\n",
              "      <th>Age of victim</th>\n",
              "      <th>Sex type</th>\n",
              "    </tr>\n",
              "  </thead>\n",
              "  <tbody>\n",
              "    <tr>\n",
              "      <th>0</th>\n",
              "      <td>2230</td>\n",
              "      <td>36</td>\n",
              "      <td>2</td>\n",
              "    </tr>\n",
              "    <tr>\n",
              "      <th>1</th>\n",
              "      <td>330</td>\n",
              "      <td>25</td>\n",
              "      <td>3</td>\n",
              "    </tr>\n",
              "    <tr>\n",
              "      <th>3</th>\n",
              "      <td>1730</td>\n",
              "      <td>76</td>\n",
              "      <td>2</td>\n",
              "    </tr>\n",
              "    <tr>\n",
              "      <th>4</th>\n",
              "      <td>415</td>\n",
              "      <td>31</td>\n",
              "      <td>1</td>\n",
              "    </tr>\n",
              "    <tr>\n",
              "      <th>5</th>\n",
              "      <td>30</td>\n",
              "      <td>25</td>\n",
              "      <td>2</td>\n",
              "    </tr>\n",
              "  </tbody>\n",
              "</table>\n",
              "</div>\n",
              "      <button class=\"colab-df-convert\" onclick=\"convertToInteractive('df-48ed002b-c18e-417d-99b2-4055ec41ea90')\"\n",
              "              title=\"Convert this dataframe to an interactive table.\"\n",
              "              style=\"display:none;\">\n",
              "        \n",
              "  <svg xmlns=\"http://www.w3.org/2000/svg\" height=\"24px\"viewBox=\"0 0 24 24\"\n",
              "       width=\"24px\">\n",
              "    <path d=\"M0 0h24v24H0V0z\" fill=\"none\"/>\n",
              "    <path d=\"M18.56 5.44l.94 2.06.94-2.06 2.06-.94-2.06-.94-.94-2.06-.94 2.06-2.06.94zm-11 1L8.5 8.5l.94-2.06 2.06-.94-2.06-.94L8.5 2.5l-.94 2.06-2.06.94zm10 10l.94 2.06.94-2.06 2.06-.94-2.06-.94-.94-2.06-.94 2.06-2.06.94z\"/><path d=\"M17.41 7.96l-1.37-1.37c-.4-.4-.92-.59-1.43-.59-.52 0-1.04.2-1.43.59L10.3 9.45l-7.72 7.72c-.78.78-.78 2.05 0 2.83L4 21.41c.39.39.9.59 1.41.59.51 0 1.02-.2 1.41-.59l7.78-7.78 2.81-2.81c.8-.78.8-2.07 0-2.86zM5.41 20L4 18.59l7.72-7.72 1.47 1.35L5.41 20z\"/>\n",
              "  </svg>\n",
              "      </button>\n",
              "      \n",
              "  <style>\n",
              "    .colab-df-container {\n",
              "      display:flex;\n",
              "      flex-wrap:wrap;\n",
              "      gap: 12px;\n",
              "    }\n",
              "\n",
              "    .colab-df-convert {\n",
              "      background-color: #E8F0FE;\n",
              "      border: none;\n",
              "      border-radius: 50%;\n",
              "      cursor: pointer;\n",
              "      display: none;\n",
              "      fill: #1967D2;\n",
              "      height: 32px;\n",
              "      padding: 0 0 0 0;\n",
              "      width: 32px;\n",
              "    }\n",
              "\n",
              "    .colab-df-convert:hover {\n",
              "      background-color: #E2EBFA;\n",
              "      box-shadow: 0px 1px 2px rgba(60, 64, 67, 0.3), 0px 1px 3px 1px rgba(60, 64, 67, 0.15);\n",
              "      fill: #174EA6;\n",
              "    }\n",
              "\n",
              "    [theme=dark] .colab-df-convert {\n",
              "      background-color: #3B4455;\n",
              "      fill: #D2E3FC;\n",
              "    }\n",
              "\n",
              "    [theme=dark] .colab-df-convert:hover {\n",
              "      background-color: #434B5C;\n",
              "      box-shadow: 0px 1px 3px 1px rgba(0, 0, 0, 0.15);\n",
              "      filter: drop-shadow(0px 1px 2px rgba(0, 0, 0, 0.3));\n",
              "      fill: #FFFFFF;\n",
              "    }\n",
              "  </style>\n",
              "\n",
              "      <script>\n",
              "        const buttonEl =\n",
              "          document.querySelector('#df-48ed002b-c18e-417d-99b2-4055ec41ea90 button.colab-df-convert');\n",
              "        buttonEl.style.display =\n",
              "          google.colab.kernel.accessAllowed ? 'block' : 'none';\n",
              "\n",
              "        async function convertToInteractive(key) {\n",
              "          const element = document.querySelector('#df-48ed002b-c18e-417d-99b2-4055ec41ea90');\n",
              "          const dataTable =\n",
              "            await google.colab.kernel.invokeFunction('convertToInteractive',\n",
              "                                                     [key], {});\n",
              "          if (!dataTable) return;\n",
              "\n",
              "          const docLinkHtml = 'Like what you see? Visit the ' +\n",
              "            '<a target=\"_blank\" href=https://colab.research.google.com/notebooks/data_table.ipynb>data table notebook</a>'\n",
              "            + ' to learn more about interactive tables.';\n",
              "          element.innerHTML = '';\n",
              "          dataTable['output_type'] = 'display_data';\n",
              "          await google.colab.output.renderOutput(dataTable, element);\n",
              "          const docLink = document.createElement('div');\n",
              "          docLink.innerHTML = docLinkHtml;\n",
              "          element.appendChild(docLink);\n",
              "        }\n",
              "      </script>\n",
              "    </div>\n",
              "  </div>\n",
              "  "
            ]
          },
          "metadata": {},
          "execution_count": 100
        }
      ]
    },
    {
      "cell_type": "code",
      "source": [
        "XY.head(6).to_latex(buf=\"multiclassdata.tex\",bold_rows=True,sparsify=False)"
      ],
      "metadata": {
        "id": "59EtGHPX6zVU"
      },
      "execution_count": 101,
      "outputs": []
    },
    {
      "cell_type": "code",
      "source": [
        "X=XY.loc[:,idx[\"feature\",:]]\n",
        "Y=XY[(\"label\",\"Sex type\")]\n",
        "X_1=X.iloc[:,0]\n",
        "X_2=X.iloc[:,1]\n",
        "_,X_1.name=X_1.name\n",
        "_,X_2.name=X_2.name\n",
        "flags=[(Y==c) for c in range(4)]"
      ],
      "metadata": {
        "id": "TMsiU_PM61Ya"
      },
      "execution_count": 102,
      "outputs": []
    },
    {
      "cell_type": "code",
      "source": [
        "plt.figure()\n",
        "for (cname,cvalue),f,c in zip(classdata,flags,[\"green\",\"red\",\"blue\",\"orange\"]):\n",
        "    ff=flags[cvalue]\n",
        "    plt.scatter(X_1[ff],X_2[ff],color=c,label=\"{0:s} ({1:d} points in class {2:n})\".format(cname,ff.sum(),cvalue))\n",
        "plt.xlabel(X_1.name)\n",
        "plt.ylabel(X_2.name)\n",
        "legend(\"bottom\",ncol=1)\n",
        "title=[]\n",
        "(XA,XB)=plt.xlim()\n",
        "(YA,YB)=plt.ylim()\n",
        "title.append(\"Scatterplot by Sex type\")\n",
        "plt.title(\"\\n\".join(title))\n",
        "saver(\"multiclass_scatterplot\")\n",
        "plt.show()\n",
        "plt.close()"
      ],
      "metadata": {
        "colab": {
          "base_uri": "https://localhost:8080/",
          "height": 376
        },
        "id": "4CRoi1aA7Ecm",
        "outputId": "46cb8dc5-45b1-4993-c30a-5cd6b1c0dd32"
      },
      "execution_count": 103,
      "outputs": [
        {
          "output_type": "display_data",
          "data": {
            "text/plain": [
              "<Figure size 432x288 with 1 Axes>"
            ],
            "image/png": "[encoded data removed]"
          },
          "metadata": {
            "needs_background": "light"
          }
        }
      ]
    },
    {
      "cell_type": "code",
      "source": [
        "(m0,b0)=((2,1),3)\n",
        "(m1,b1)=((-1,0),0)\n",
        "(m2,b2)=((1,-3),-1)\n",
        "#(m3,b3)="
      ],
      "metadata": {
        "id": "a-7j2enh7c-U"
      },
      "execution_count": 104,
      "outputs": []
    },
    {
      "cell_type": "code",
      "source": [
        "def polytope(mb1,mbothers,radius=1):\n",
        "    #returns vertex and other points to plot in a ball around vertex of radius\n",
        "    (m1,b1)=mb1\n",
        "    ((m2,b2),(m3,b3),(m4,b4))=mbothers\n",
        "    A=numpy.vstack([numpy.array(m1)-numpy.array(m2),numpy.array(m1)-numpy.array(m3)])\n",
        "    b=numpy.vstack([b1-b2,b1-b3])\n",
        "    signdet=numpy.sign(numpy.linalg.det(A))\n",
        "    vertex=numpy.linalg.solve(A,-b).squeeze()\n",
        "    p1=signdet*numpy.array([-A[0,1],A[0,0]])\n",
        "    p2=signdet*numpy.array([A[1,1],-A[1,0]])\n",
        "    dp=(p1-p2)/numpy.linalg.norm(p1-p2)\n",
        "    nu=2*radius/numpy.linalg.norm(p2-p2.dot(dp)*dp)\n",
        "    return vertex,[vertex+nu*p1,vertex+nu*p2]"
      ],
      "metadata": {
        "id": "c9F_acQn7fd4"
      },
      "execution_count": 105,
      "outputs": []
    },
    {
      "cell_type": "code",
      "source": [
        "#v,[p1,p2]=polytope((m1,b1),[(m2,b2),(m3,b3)])\n",
        "v,[p1,p2]=polytope((m0,b0),[(m1,b1),(m2,b2),(m3,b3)])\n",
        "(xstar,ystar)=v\n",
        "x,y=zip(*list([v,p1,p2]))\n",
        "\n",
        "plt.figure()\n",
        "plt.xlim(xstar-1,xstar+1)\n",
        "plt.ylim(ystar-1,ystar+1)\n",
        "plt.fill(x,y,color=\"red\")\n",
        "plt.scatter(-8/11,-9/11,s=50,color=\"black\",label=r\"$\\left(-\\frac{{8}}{{11}},-\\frac{{9}}{{11}}\\right)$\")\n",
        "legend(\"bottom\")\n",
        "title=[]\n",
        "title.append(\"Polytope for Class 0\")\n",
        "plt.title(\"\\n\".join(title))\n",
        "saver(\"polytope\")\n",
        "plt.show()\n",
        "plt.close()"
      ],
      "metadata": {
        "colab": {
          "base_uri": "https://localhost:8080/",
          "height": 341
        },
        "id": "QPFqeqAs7hmF",
        "outputId": "399ee44c-ea33-4daa-f6fd-d7da29f352d7"
      },
      "execution_count": 106,
      "outputs": [
        {
          "output_type": "display_data",
          "data": {
            "text/plain": [
              "<Figure size 432x288 with 1 Axes>"
            ],
            "image/png": "[encoded data removed]"
          },
          "metadata": {
            "needs_background": "light"
          }
        }
      ]
    },
    {
      "cell_type": "code",
      "source": [
        "import sklearn.linear_model"
      ],
      "metadata": {
        "id": "ZeTlz5q07vHG"
      },
      "execution_count": 107,
      "outputs": []
    },
    {
      "cell_type": "code",
      "source": [
        "clf = sklearn.linear_model.LogisticRegression(random_state=0,solver=\"newton-cg\").fit(XY.loc[:,idx[\"feature\",:]].values, XY[(\"label\",\"Sex type\")].values)\n",
        "print(clf.coef_)\n",
        "print(clf.intercept_)"
      ],
      "metadata": {
        "colab": {
          "base_uri": "https://localhost:8080/"
        },
        "id": "abNARm-w7o_e",
        "outputId": "4ce717fa-0a79-4e97-a421-ed6fbd370850"
      },
      "execution_count": 108,
      "outputs": [
        {
          "output_type": "stream",
          "name": "stdout",
          "text": [
            "[[ 8.19283054e-05  2.30753911e-02]\n",
            " [-4.89150823e-05 -8.03629975e-02]\n",
            " [-4.09243630e-05  2.42509199e-02]\n",
            " [ 7.91076128e-06  3.30366864e-02]]\n",
            "[-5.92887758  1.67342554  2.30709718  1.94835486]\n"
          ]
        },
        {
          "output_type": "stream",
          "name": "stderr",
          "text": [
            "/usr/local/lib/python3.8/dist-packages/sklearn/utils/optimize.py:210: ConvergenceWarning: newton-cg failed to converge. Increase the number of iterations.\n",
            "  warnings.warn(\n"
          ]
        }
      ]
    },
    {
      "cell_type": "code",
      "source": [
        "df_multiclass=pd.DataFrame(numpy.nan,columns=[\"m1\",\"m2\",\"b\"],index=[\"Class 0\",\"Class 1\",\"Class 2\",\"Class 3\"])\n",
        "df_multiclass.loc[:,\"b\"]=clf.intercept_\n",
        "df_multiclass.loc[:,[\"m1\",\"m2\"]]=clf.coef_\n",
        "df_multiclass.to_latex(buf=\"multiclasscoeffs.tex\",bold_rows=True,header=[\"$m_1$\",\"$m_2$\",\"b\"],escape=False)\n",
        "df_multiclass"
      ],
      "metadata": {
        "colab": {
          "base_uri": "https://localhost:8080/",
          "height": 175
        },
        "id": "hYOI3TJ88q4z",
        "outputId": "c2855acb-457e-4bb3-d7d2-a29c099e89bc"
      },
      "execution_count": 109,
      "outputs": [
        {
          "output_type": "execute_result",
          "data": {
            "text/plain": [
              "               m1        m2         b\n",
              "Class 0  0.000082  0.023075 -5.928878\n",
              "Class 1 -0.000049 -0.080363  1.673426\n",
              "Class 2 -0.000041  0.024251  2.307097\n",
              "Class 3  0.000008  0.033037  1.948355"
            ],
            "text/html": [
              "\n",
              "  <div id=\"df-ed0045d1-7281-4bde-abc6-62d4e850b4dc\">\n",
              "    <div class=\"colab-df-container\">\n",
              "      <div>\n",
              "<style scoped>\n",
              "    .dataframe tbody tr th:only-of-type {\n",
              "        vertical-align: middle;\n",
              "    }\n",
              "\n",
              "    .dataframe tbody tr th {\n",
              "        vertical-align: top;\n",
              "    }\n",
              "\n",
              "    .dataframe thead th {\n",
              "        text-align: right;\n",
              "    }\n",
              "</style>\n",
              "<table border=\"1\" class=\"dataframe\">\n",
              "  <thead>\n",
              "    <tr style=\"text-align: right;\">\n",
              "      <th></th>\n",
              "      <th>m1</th>\n",
              "      <th>m2</th>\n",
              "      <th>b</th>\n",
              "    </tr>\n",
              "  </thead>\n",
              "  <tbody>\n",
              "    <tr>\n",
              "      <th>Class 0</th>\n",
              "      <td>0.000082</td>\n",
              "      <td>0.023075</td>\n",
              "      <td>-5.928878</td>\n",
              "    </tr>\n",
              "    <tr>\n",
              "      <th>Class 1</th>\n",
              "      <td>-0.000049</td>\n",
              "      <td>-0.080363</td>\n",
              "      <td>1.673426</td>\n",
              "    </tr>\n",
              "    <tr>\n",
              "      <th>Class 2</th>\n",
              "      <td>-0.000041</td>\n",
              "      <td>0.024251</td>\n",
              "      <td>2.307097</td>\n",
              "    </tr>\n",
              "    <tr>\n",
              "      <th>Class 3</th>\n",
              "      <td>0.000008</td>\n",
              "      <td>0.033037</td>\n",
              "      <td>1.948355</td>\n",
              "    </tr>\n",
              "  </tbody>\n",
              "</table>\n",
              "</div>\n",
              "      <button class=\"colab-df-convert\" onclick=\"convertToInteractive('df-ed0045d1-7281-4bde-abc6-62d4e850b4dc')\"\n",
              "              title=\"Convert this dataframe to an interactive table.\"\n",
              "              style=\"display:none;\">\n",
              "        \n",
              "  <svg xmlns=\"http://www.w3.org/2000/svg\" height=\"24px\"viewBox=\"0 0 24 24\"\n",
              "       width=\"24px\">\n",
              "    <path d=\"M0 0h24v24H0V0z\" fill=\"none\"/>\n",
              "    <path d=\"M18.56 5.44l.94 2.06.94-2.06 2.06-.94-2.06-.94-.94-2.06-.94 2.06-2.06.94zm-11 1L8.5 8.5l.94-2.06 2.06-.94-2.06-.94L8.5 2.5l-.94 2.06-2.06.94zm10 10l.94 2.06.94-2.06 2.06-.94-2.06-.94-.94-2.06-.94 2.06-2.06.94z\"/><path d=\"M17.41 7.96l-1.37-1.37c-.4-.4-.92-.59-1.43-.59-.52 0-1.04.2-1.43.59L10.3 9.45l-7.72 7.72c-.78.78-.78 2.05 0 2.83L4 21.41c.39.39.9.59 1.41.59.51 0 1.02-.2 1.41-.59l7.78-7.78 2.81-2.81c.8-.78.8-2.07 0-2.86zM5.41 20L4 18.59l7.72-7.72 1.47 1.35L5.41 20z\"/>\n",
              "  </svg>\n",
              "      </button>\n",
              "      \n",
              "  <style>\n",
              "    .colab-df-container {\n",
              "      display:flex;\n",
              "      flex-wrap:wrap;\n",
              "      gap: 12px;\n",
              "    }\n",
              "\n",
              "    .colab-df-convert {\n",
              "      background-color: #E8F0FE;\n",
              "      border: none;\n",
              "      border-radius: 50%;\n",
              "      cursor: pointer;\n",
              "      display: none;\n",
              "      fill: #1967D2;\n",
              "      height: 32px;\n",
              "      padding: 0 0 0 0;\n",
              "      width: 32px;\n",
              "    }\n",
              "\n",
              "    .colab-df-convert:hover {\n",
              "      background-color: #E2EBFA;\n",
              "      box-shadow: 0px 1px 2px rgba(60, 64, 67, 0.3), 0px 1px 3px 1px rgba(60, 64, 67, 0.15);\n",
              "      fill: #174EA6;\n",
              "    }\n",
              "\n",
              "    [theme=dark] .colab-df-convert {\n",
              "      background-color: #3B4455;\n",
              "      fill: #D2E3FC;\n",
              "    }\n",
              "\n",
              "    [theme=dark] .colab-df-convert:hover {\n",
              "      background-color: #434B5C;\n",
              "      box-shadow: 0px 1px 3px 1px rgba(0, 0, 0, 0.15);\n",
              "      filter: drop-shadow(0px 1px 2px rgba(0, 0, 0, 0.3));\n",
              "      fill: #FFFFFF;\n",
              "    }\n",
              "  </style>\n",
              "\n",
              "      <script>\n",
              "        const buttonEl =\n",
              "          document.querySelector('#df-ed0045d1-7281-4bde-abc6-62d4e850b4dc button.colab-df-convert');\n",
              "        buttonEl.style.display =\n",
              "          google.colab.kernel.accessAllowed ? 'block' : 'none';\n",
              "\n",
              "        async function convertToInteractive(key) {\n",
              "          const element = document.querySelector('#df-ed0045d1-7281-4bde-abc6-62d4e850b4dc');\n",
              "          const dataTable =\n",
              "            await google.colab.kernel.invokeFunction('convertToInteractive',\n",
              "                                                     [key], {});\n",
              "          if (!dataTable) return;\n",
              "\n",
              "          const docLinkHtml = 'Like what you see? Visit the ' +\n",
              "            '<a target=\"_blank\" href=https://colab.research.google.com/notebooks/data_table.ipynb>data table notebook</a>'\n",
              "            + ' to learn more about interactive tables.';\n",
              "          element.innerHTML = '';\n",
              "          dataTable['output_type'] = 'display_data';\n",
              "          await google.colab.output.renderOutput(dataTable, element);\n",
              "          const docLink = document.createElement('div');\n",
              "          docLink.innerHTML = docLinkHtml;\n",
              "          element.appendChild(docLink);\n",
              "        }\n",
              "      </script>\n",
              "    </div>\n",
              "  </div>\n",
              "  "
            ]
          },
          "metadata": {},
          "execution_count": 109
        }
      ]
    },
    {
      "cell_type": "code",
      "source": [
        "(m0,b0)=(clf.coef_[0],clf.intercept_[0])\n",
        "(m1,b1)=(clf.coef_[1],clf.intercept_[1])\n",
        "(m2,b2)=(clf.coef_[2],clf.intercept_[2])\n",
        "(m3,b3)=(clf.coef_[3],clf.intercept_[3])"
      ],
      "metadata": {
        "id": "TAAFh1zN83cW"
      },
      "execution_count": 110,
      "outputs": []
    },
    {
      "cell_type": "code",
      "source": [
        "clf.coef_"
      ],
      "metadata": {
        "colab": {
          "base_uri": "https://localhost:8080/"
        },
        "id": "GOkWl4bi88BA",
        "outputId": "d55098ed-4765-4595-e471-abcb4ed844c8"
      },
      "execution_count": 111,
      "outputs": [
        {
          "output_type": "execute_result",
          "data": {
            "text/plain": [
              "array([[ 8.19283054e-05,  2.30753911e-02],\n",
              "       [-4.89150823e-05, -8.03629975e-02],\n",
              "       [-4.09243630e-05,  2.42509199e-02],\n",
              "       [ 7.91076128e-06,  3.30366864e-02]])"
            ]
          },
          "metadata": {},
          "execution_count": 111
        }
      ]
    },
    {
      "cell_type": "code",
      "execution_count": 112,
      "metadata": {
        "colab": {
          "base_uri": "https://localhost:8080/",
          "height": 436
        },
        "id": "CdccCSIPPC4Y",
        "outputId": "7d062f90-b718-4c27-c510-142aa04004da"
      },
      "outputs": [
        {
          "output_type": "display_data",
          "data": {
            "text/plain": [
              "<Figure size 432x288 with 1 Axes>"
            ],
            "image/png": "[encoded data removed]"
          },
          "metadata": {
            "needs_background": "light"
          }
        }
      ],
      "source": [
        "plt.figure()\n",
        "\n",
        "\n",
        "#first find radius to capture triple point and data\n",
        "v,_=polytope((m0,b0),[(m1,b1),(m2,b2),(m3,b3)])\n",
        "(xstar,ystar)=v\n",
        "(data_mean_x,data_mean_y)=(X_1.mean(),X_2.mean())\n",
        "(data_std_x,data_std_y)=(X_1.std(),X_2.std())\n",
        "radius=numpy.linalg.norm([data_mean_x-xstar,data_mean_y-ystar])+2*numpy.linalg.norm([data_std_x,data_std_y])\n",
        "\n",
        "\n",
        "v,[p1,p2]=polytope((m0,b0),[(m1,b1),(m2,b2),(m3,b3)],radius=radius)\n",
        "\n",
        "x,y=zip(*list([v,p1,p2]))\n",
        "\n",
        "plt.xlim(xstar-10,xstar+10)\n",
        "plt.ylim(ystar-10,ystar+10)\n",
        "plt.fill(x,y,color=\"lightgreen\",label=\"Class 0 (H)\")\n",
        "\n",
        "v,[p1,p2]=polytope((m1,b1),[(m2,b2),(m0,b0),(m3,b3)],radius=radius*2)\n",
        "(xstar,ystar)=v\n",
        "x,y=zip(*list([v,p1,p2]))\n",
        "plt.fill(x,y,color=\"pink\",label=\"Class 1 (X)\")\n",
        "\n",
        "v,[p1,p2]=polytope((m2,b2),[(m0,b0),(m1,b1),(m3,b3)],radius=radius*2)\n",
        "(xstar,ystar)=v\n",
        "x,y=zip(*list([v,p1,p2]))\n",
        "plt.fill(x,y,color=\"lightblue\",label=\"Class 2 (F)\")\n",
        "\n",
        "v,[p1,p2]=polytope((m3,b3),[(m0,b0),(m1,b1),(m2,b2)],radius=radius*2)\n",
        "(xstar,ystar)=v\n",
        "x,y=zip(*list([v,p1,p2]))\n",
        "plt.fill(x,y,color=\"moccasin\",label=\"Class 3 (M)\")\n",
        "\n",
        "\n",
        "for (cname,cvalue),f,c in zip(classdata,flags,[\"green\",\"red\",\"blue\",\"orange\"]):\n",
        "    ff=flags[cvalue]\n",
        "    plt.scatter(X_1[ff],X_2[ff],color=c,label=\"{0:s} ({1:d} points in type {2:n})\".format(cname,ff.sum(),cvalue))\n",
        "plt.xlabel(X_1.name)\n",
        "plt.ylabel(X_2.name)\n",
        "legend(\"bottom\",ncol=1)\n",
        "\n",
        "\n",
        "plt.xlabel(X_1.name)\n",
        "plt.ylabel(X_2.name)\n",
        "title=[]\n",
        "title.append(\"Decision Classes\")\n",
        "plt.title(\"\\n\".join(title))\n",
        "saver(\"datapolytope\")\n",
        "plt.show()\n",
        "plt.close()"
      ]
    },
    {
      "cell_type": "markdown",
      "source": [
        "However, Show as feature: The occurrence of time and age have nothing to do with the label:Sex of victim"
      ],
      "metadata": {
        "id": "i0feb7LkD0JM"
      }
    }
  ]
}