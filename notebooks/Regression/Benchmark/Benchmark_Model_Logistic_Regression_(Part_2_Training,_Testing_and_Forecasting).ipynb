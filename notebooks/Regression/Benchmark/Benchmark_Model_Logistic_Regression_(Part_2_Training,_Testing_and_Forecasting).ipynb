{
  "cells": [
    {
      "cell_type": "code",
      "execution_count": 1,
      "id": "6b81e19d",
      "metadata": {
        "colab": {
          "base_uri": "https://localhost:8080/",
          "height": 577
        },
        "id": "6b81e19d",
        "outputId": "4c693563-890b-4060-eca4-dda1ce968c21"
      },
      "outputs": [
        {
          "output_type": "stream",
          "name": "stdout",
          "text": [
            "local file not found; accessing Google Drive\n"
          ]
        },
        {
          "output_type": "execute_result",
          "data": {
            "text/plain": [
              "       DR_NO               Date Rptd                DATE OCC  TIME OCC  AREA  \\\n",
              "0   10304468  01/08/2020 12:00:00 AM  01/08/2020 12:00:00 AM      2230     3   \n",
              "1  190101086  01/02/2020 12:00:00 AM  01/01/2020 12:00:00 AM       330     1   \n",
              "2  200110444  04/14/2020 12:00:00 AM  02/13/2020 12:00:00 AM      1200     1   \n",
              "3  191501505  01/01/2020 12:00:00 AM  01/01/2020 12:00:00 AM      1730    15   \n",
              "4  191921269  01/01/2020 12:00:00 AM  01/01/2020 12:00:00 AM       415    19   \n",
              "\n",
              "     AREA NAME  Rpt Dist No  Part 1-2  Crm Cd  \\\n",
              "0    Southwest          377         2     624   \n",
              "1      Central          163         2     624   \n",
              "2      Central          155         2     845   \n",
              "3  N Hollywood         1543         2     745   \n",
              "4      Mission         1998         2     740   \n",
              "\n",
              "                                         Crm Cd Desc  ... Status  \\\n",
              "0                           BATTERY - SIMPLE ASSAULT  ...     AO   \n",
              "1                           BATTERY - SIMPLE ASSAULT  ...     IC   \n",
              "2          SEX OFFENDER REGISTRANT OUT OF COMPLIANCE  ...     AA   \n",
              "3           VANDALISM - MISDEAMEANOR ($399 OR UNDER)  ...     IC   \n",
              "4  VANDALISM - FELONY ($400 & OVER, ALL CHURCH VA...  ...     IC   \n",
              "\n",
              "    Status Desc Crm Cd 1 Crm Cd 2  Crm Cd 3 Crm Cd 4  \\\n",
              "0   Adult Other    624.0      NaN       NaN      NaN   \n",
              "1   Invest Cont    624.0      NaN       NaN      NaN   \n",
              "2  Adult Arrest    845.0      NaN       NaN      NaN   \n",
              "3   Invest Cont    745.0    998.0       NaN      NaN   \n",
              "4   Invest Cont    740.0      NaN       NaN      NaN   \n",
              "\n",
              "                                   LOCATION Cross Street      LAT       LON  \n",
              "0   1100 W  39TH                         PL          NaN  34.0141 -118.2978  \n",
              "1    700 S  HILL                         ST          NaN  34.0459 -118.2545  \n",
              "2    200 E  6TH                          ST          NaN  34.0448 -118.2474  \n",
              "3   5400    CORTEEN                      PL          NaN  34.1685 -118.4019  \n",
              "4  14400    TITUS                        ST          NaN  34.2198 -118.4468  \n",
              "\n",
              "[5 rows x 28 columns]"
            ],
            "text/html": [
              "\n",
              "  <div id=\"df-536a7786-914f-4f07-a720-2dc55f64686f\">\n",
              "    <div class=\"colab-df-container\">\n",
              "      <div>\n",
              "<style scoped>\n",
              "    .dataframe tbody tr th:only-of-type {\n",
              "        vertical-align: middle;\n",
              "    }\n",
              "\n",
              "    .dataframe tbody tr th {\n",
              "        vertical-align: top;\n",
              "    }\n",
              "\n",
              "    .dataframe thead th {\n",
              "        text-align: right;\n",
              "    }\n",
              "</style>\n",
              "<table border=\"1\" class=\"dataframe\">\n",
              "  <thead>\n",
              "    <tr style=\"text-align: right;\">\n",
              "      <th></th>\n",
              "      <th>DR_NO</th>\n",
              "      <th>Date Rptd</th>\n",
              "      <th>DATE OCC</th>\n",
              "      <th>TIME OCC</th>\n",
              "      <th>AREA</th>\n",
              "      <th>AREA NAME</th>\n",
              "      <th>Rpt Dist No</th>\n",
              "      <th>Part 1-2</th>\n",
              "      <th>Crm Cd</th>\n",
              "      <th>Crm Cd Desc</th>\n",
              "      <th>...</th>\n",
              "      <th>Status</th>\n",
              "      <th>Status Desc</th>\n",
              "      <th>Crm Cd 1</th>\n",
              "      <th>Crm Cd 2</th>\n",
              "      <th>Crm Cd 3</th>\n",
              "      <th>Crm Cd 4</th>\n",
              "      <th>LOCATION</th>\n",
              "      <th>Cross Street</th>\n",
              "      <th>LAT</th>\n",
              "      <th>LON</th>\n",
              "    </tr>\n",
              "  </thead>\n",
              "  <tbody>\n",
              "    <tr>\n",
              "      <th>0</th>\n",
              "      <td>10304468</td>\n",
              "      <td>01/08/2020 12:00:00 AM</td>\n",
              "      <td>01/08/2020 12:00:00 AM</td>\n",
              "      <td>2230</td>\n",
              "      <td>3</td>\n",
              "      <td>Southwest</td>\n",
              "      <td>377</td>\n",
              "      <td>2</td>\n",
              "      <td>624</td>\n",
              "      <td>BATTERY - SIMPLE ASSAULT</td>\n",
              "      <td>...</td>\n",
              "      <td>AO</td>\n",
              "      <td>Adult Other</td>\n",
              "      <td>624.0</td>\n",
              "      <td>NaN</td>\n",
              "      <td>NaN</td>\n",
              "      <td>NaN</td>\n",
              "      <td>1100 W  39TH                         PL</td>\n",
              "      <td>NaN</td>\n",
              "      <td>34.0141</td>\n",
              "      <td>-118.2978</td>\n",
              "    </tr>\n",
              "    <tr>\n",
              "      <th>1</th>\n",
              "      <td>190101086</td>\n",
              "      <td>01/02/2020 12:00:00 AM</td>\n",
              "      <td>01/01/2020 12:00:00 AM</td>\n",
              "      <td>330</td>\n",
              "      <td>1</td>\n",
              "      <td>Central</td>\n",
              "      <td>163</td>\n",
              "      <td>2</td>\n",
              "      <td>624</td>\n",
              "      <td>BATTERY - SIMPLE ASSAULT</td>\n",
              "      <td>...</td>\n",
              "      <td>IC</td>\n",
              "      <td>Invest Cont</td>\n",
              "      <td>624.0</td>\n",
              "      <td>NaN</td>\n",
              "      <td>NaN</td>\n",
              "      <td>NaN</td>\n",
              "      <td>700 S  HILL                         ST</td>\n",
              "      <td>NaN</td>\n",
              "      <td>34.0459</td>\n",
              "      <td>-118.2545</td>\n",
              "    </tr>\n",
              "    <tr>\n",
              "      <th>2</th>\n",
              "      <td>200110444</td>\n",
              "      <td>04/14/2020 12:00:00 AM</td>\n",
              "      <td>02/13/2020 12:00:00 AM</td>\n",
              "      <td>1200</td>\n",
              "      <td>1</td>\n",
              "      <td>Central</td>\n",
              "      <td>155</td>\n",
              "      <td>2</td>\n",
              "      <td>845</td>\n",
              "      <td>SEX OFFENDER REGISTRANT OUT OF COMPLIANCE</td>\n",
              "      <td>...</td>\n",
              "      <td>AA</td>\n",
              "      <td>Adult Arrest</td>\n",
              "      <td>845.0</td>\n",
              "      <td>NaN</td>\n",
              "      <td>NaN</td>\n",
              "      <td>NaN</td>\n",
              "      <td>200 E  6TH                          ST</td>\n",
              "      <td>NaN</td>\n",
              "      <td>34.0448</td>\n",
              "      <td>-118.2474</td>\n",
              "    </tr>\n",
              "    <tr>\n",
              "      <th>3</th>\n",
              "      <td>191501505</td>\n",
              "      <td>01/01/2020 12:00:00 AM</td>\n",
              "      <td>01/01/2020 12:00:00 AM</td>\n",
              "      <td>1730</td>\n",
              "      <td>15</td>\n",
              "      <td>N Hollywood</td>\n",
              "      <td>1543</td>\n",
              "      <td>2</td>\n",
              "      <td>745</td>\n",
              "      <td>VANDALISM - MISDEAMEANOR ($399 OR UNDER)</td>\n",
              "      <td>...</td>\n",
              "      <td>IC</td>\n",
              "      <td>Invest Cont</td>\n",
              "      <td>745.0</td>\n",
              "      <td>998.0</td>\n",
              "      <td>NaN</td>\n",
              "      <td>NaN</td>\n",
              "      <td>5400    CORTEEN                      PL</td>\n",
              "      <td>NaN</td>\n",
              "      <td>34.1685</td>\n",
              "      <td>-118.4019</td>\n",
              "    </tr>\n",
              "    <tr>\n",
              "      <th>4</th>\n",
              "      <td>191921269</td>\n",
              "      <td>01/01/2020 12:00:00 AM</td>\n",
              "      <td>01/01/2020 12:00:00 AM</td>\n",
              "      <td>415</td>\n",
              "      <td>19</td>\n",
              "      <td>Mission</td>\n",
              "      <td>1998</td>\n",
              "      <td>2</td>\n",
              "      <td>740</td>\n",
              "      <td>VANDALISM - FELONY ($400 &amp; OVER, ALL CHURCH VA...</td>\n",
              "      <td>...</td>\n",
              "      <td>IC</td>\n",
              "      <td>Invest Cont</td>\n",
              "      <td>740.0</td>\n",
              "      <td>NaN</td>\n",
              "      <td>NaN</td>\n",
              "      <td>NaN</td>\n",
              "      <td>14400    TITUS                        ST</td>\n",
              "      <td>NaN</td>\n",
              "      <td>34.2198</td>\n",
              "      <td>-118.4468</td>\n",
              "    </tr>\n",
              "  </tbody>\n",
              "</table>\n",
              "<p>5 rows × 28 columns</p>\n",
              "</div>\n",
              "      <button class=\"colab-df-convert\" onclick=\"convertToInteractive('df-536a7786-914f-4f07-a720-2dc55f64686f')\"\n",
              "              title=\"Convert this dataframe to an interactive table.\"\n",
              "              style=\"display:none;\">\n",
              "        \n",
              "  <svg xmlns=\"http://www.w3.org/2000/svg\" height=\"24px\"viewBox=\"0 0 24 24\"\n",
              "       width=\"24px\">\n",
              "    <path d=\"M0 0h24v24H0V0z\" fill=\"none\"/>\n",
              "    <path d=\"M18.56 5.44l.94 2.06.94-2.06 2.06-.94-2.06-.94-.94-2.06-.94 2.06-2.06.94zm-11 1L8.5 8.5l.94-2.06 2.06-.94-2.06-.94L8.5 2.5l-.94 2.06-2.06.94zm10 10l.94 2.06.94-2.06 2.06-.94-2.06-.94-.94-2.06-.94 2.06-2.06.94z\"/><path d=\"M17.41 7.96l-1.37-1.37c-.4-.4-.92-.59-1.43-.59-.52 0-1.04.2-1.43.59L10.3 9.45l-7.72 7.72c-.78.78-.78 2.05 0 2.83L4 21.41c.39.39.9.59 1.41.59.51 0 1.02-.2 1.41-.59l7.78-7.78 2.81-2.81c.8-.78.8-2.07 0-2.86zM5.41 20L4 18.59l7.72-7.72 1.47 1.35L5.41 20z\"/>\n",
              "  </svg>\n",
              "      </button>\n",
              "      \n",
              "  <style>\n",
              "    .colab-df-container {\n",
              "      display:flex;\n",
              "      flex-wrap:wrap;\n",
              "      gap: 12px;\n",
              "    }\n",
              "\n",
              "    .colab-df-convert {\n",
              "      background-color: #E8F0FE;\n",
              "      border: none;\n",
              "      border-radius: 50%;\n",
              "      cursor: pointer;\n",
              "      display: none;\n",
              "      fill: #1967D2;\n",
              "      height: 32px;\n",
              "      padding: 0 0 0 0;\n",
              "      width: 32px;\n",
              "    }\n",
              "\n",
              "    .colab-df-convert:hover {\n",
              "      background-color: #E2EBFA;\n",
              "      box-shadow: 0px 1px 2px rgba(60, 64, 67, 0.3), 0px 1px 3px 1px rgba(60, 64, 67, 0.15);\n",
              "      fill: #174EA6;\n",
              "    }\n",
              "\n",
              "    [theme=dark] .colab-df-convert {\n",
              "      background-color: #3B4455;\n",
              "      fill: #D2E3FC;\n",
              "    }\n",
              "\n",
              "    [theme=dark] .colab-df-convert:hover {\n",
              "      background-color: #434B5C;\n",
              "      box-shadow: 0px 1px 3px 1px rgba(0, 0, 0, 0.15);\n",
              "      filter: drop-shadow(0px 1px 2px rgba(0, 0, 0, 0.3));\n",
              "      fill: #FFFFFF;\n",
              "    }\n",
              "  </style>\n",
              "\n",
              "      <script>\n",
              "        const buttonEl =\n",
              "          document.querySelector('#df-536a7786-914f-4f07-a720-2dc55f64686f button.colab-df-convert');\n",
              "        buttonEl.style.display =\n",
              "          google.colab.kernel.accessAllowed ? 'block' : 'none';\n",
              "\n",
              "        async function convertToInteractive(key) {\n",
              "          const element = document.querySelector('#df-536a7786-914f-4f07-a720-2dc55f64686f');\n",
              "          const dataTable =\n",
              "            await google.colab.kernel.invokeFunction('convertToInteractive',\n",
              "                                                     [key], {});\n",
              "          if (!dataTable) return;\n",
              "\n",
              "          const docLinkHtml = 'Like what you see? Visit the ' +\n",
              "            '<a target=\"_blank\" href=https://colab.research.google.com/notebooks/data_table.ipynb>data table notebook</a>'\n",
              "            + ' to learn more about interactive tables.';\n",
              "          element.innerHTML = '';\n",
              "          dataTable['output_type'] = 'display_data';\n",
              "          await google.colab.output.renderOutput(dataTable, element);\n",
              "          const docLink = document.createElement('div');\n",
              "          docLink.innerHTML = docLinkHtml;\n",
              "          element.appendChild(docLink);\n",
              "        }\n",
              "      </script>\n",
              "    </div>\n",
              "  </div>\n",
              "  "
            ]
          },
          "metadata": {},
          "execution_count": 1
        }
      ],
      "source": [
        "import pandas as pd\n",
        "def getfile(location_pair,**kwargs): #tries to get local version and then defaults to google drive version\n",
        "    (loc,gdrive)=location_pair\n",
        "    try:\n",
        "        out=pd.read_csv(loc,**kwargs)\n",
        "    except FileNotFoundError:\n",
        "        print(\"local file not found; accessing Google Drive\")\n",
        "        loc = 'https://drive.google.com/uc?export=download&id='+gdrive.split('/')[-2]\n",
        "        out= pd.read_csv(loc,**kwargs)\n",
        "    return out\n",
        "\n",
        "import urllib\n",
        "def getLargeFile(location_pair,**kwargs): #tries to get local version and then defaults to google drive version\n",
        "    (loc,gdrive)=location_pair\n",
        "    try:\n",
        "        out=pd.read_csv(loc,**kwargs)\n",
        "    except FileNotFoundError:\n",
        "        print(\"local file not found; accessing Google Drive\")\n",
        "        url = gdrive\n",
        "        urllib.request.urlretrieve(gdrive, loc)\n",
        "        out= pd.read_csv(loc,**kwargs)\n",
        "    return out\n",
        "\n",
        "fname = (\"Crime_Data_from_2020_to_Present.csv\", \n",
        "         \"https://drive.google.com/u/0/uc?id=1WwLkX_BADtPY83rFQ4CQ5Lbf6UcI055A&export=download&confirm=t&uuid=4e0aae58-2f5b-4420-941f-8f2f49ae0cb8&at=ALAFpqzX_FrSz-hUtqhaXe2ui7h6:1667673013562\")\n",
        "data = getLargeFile(fname)\n",
        "data.head()"
      ]
    },
    {
      "cell_type": "code",
      "execution_count": 2,
      "id": "a65abbbf",
      "metadata": {
        "colab": {
          "base_uri": "https://localhost:8080/"
        },
        "id": "a65abbbf",
        "outputId": "e35eee77-e004-4b32-8725-5914acc70884"
      },
      "outputs": [
        {
          "output_type": "execute_result",
          "data": {
            "text/plain": [
              "(590832, 28)"
            ]
          },
          "metadata": {},
          "execution_count": 2
        }
      ],
      "source": [
        "data.shape"
      ]
    },
    {
      "cell_type": "code",
      "execution_count": 3,
      "id": "774051d0",
      "metadata": {
        "colab": {
          "base_uri": "https://localhost:8080/",
          "height": 424
        },
        "id": "774051d0",
        "outputId": "42d87b9f-2ffd-4bb0-a403-3c3eaf013b0b"
      },
      "outputs": [
        {
          "output_type": "execute_result",
          "data": {
            "text/plain": [
              "        TIME OCC  Vict Age Vict Sex\n",
              "0           2230        36        F\n",
              "1            330        25        M\n",
              "2           1200         0        X\n",
              "3           1730        76        F\n",
              "4            415        31        X\n",
              "...          ...       ...      ...\n",
              "590827      1900        57        F\n",
              "590828        10        34        F\n",
              "590829      1530         0      NaN\n",
              "590830      2000         0      NaN\n",
              "590831      1800        61        F\n",
              "\n",
              "[590832 rows x 3 columns]"
            ],
            "text/html": [
              "\n",
              "  <div id=\"df-058444b4-f2ef-4ae1-9076-6eef0a0d3c1c\">\n",
              "    <div class=\"colab-df-container\">\n",
              "      <div>\n",
              "<style scoped>\n",
              "    .dataframe tbody tr th:only-of-type {\n",
              "        vertical-align: middle;\n",
              "    }\n",
              "\n",
              "    .dataframe tbody tr th {\n",
              "        vertical-align: top;\n",
              "    }\n",
              "\n",
              "    .dataframe thead th {\n",
              "        text-align: right;\n",
              "    }\n",
              "</style>\n",
              "<table border=\"1\" class=\"dataframe\">\n",
              "  <thead>\n",
              "    <tr style=\"text-align: right;\">\n",
              "      <th></th>\n",
              "      <th>TIME OCC</th>\n",
              "      <th>Vict Age</th>\n",
              "      <th>Vict Sex</th>\n",
              "    </tr>\n",
              "  </thead>\n",
              "  <tbody>\n",
              "    <tr>\n",
              "      <th>0</th>\n",
              "      <td>2230</td>\n",
              "      <td>36</td>\n",
              "      <td>F</td>\n",
              "    </tr>\n",
              "    <tr>\n",
              "      <th>1</th>\n",
              "      <td>330</td>\n",
              "      <td>25</td>\n",
              "      <td>M</td>\n",
              "    </tr>\n",
              "    <tr>\n",
              "      <th>2</th>\n",
              "      <td>1200</td>\n",
              "      <td>0</td>\n",
              "      <td>X</td>\n",
              "    </tr>\n",
              "    <tr>\n",
              "      <th>3</th>\n",
              "      <td>1730</td>\n",
              "      <td>76</td>\n",
              "      <td>F</td>\n",
              "    </tr>\n",
              "    <tr>\n",
              "      <th>4</th>\n",
              "      <td>415</td>\n",
              "      <td>31</td>\n",
              "      <td>X</td>\n",
              "    </tr>\n",
              "    <tr>\n",
              "      <th>...</th>\n",
              "      <td>...</td>\n",
              "      <td>...</td>\n",
              "      <td>...</td>\n",
              "    </tr>\n",
              "    <tr>\n",
              "      <th>590827</th>\n",
              "      <td>1900</td>\n",
              "      <td>57</td>\n",
              "      <td>F</td>\n",
              "    </tr>\n",
              "    <tr>\n",
              "      <th>590828</th>\n",
              "      <td>10</td>\n",
              "      <td>34</td>\n",
              "      <td>F</td>\n",
              "    </tr>\n",
              "    <tr>\n",
              "      <th>590829</th>\n",
              "      <td>1530</td>\n",
              "      <td>0</td>\n",
              "      <td>NaN</td>\n",
              "    </tr>\n",
              "    <tr>\n",
              "      <th>590830</th>\n",
              "      <td>2000</td>\n",
              "      <td>0</td>\n",
              "      <td>NaN</td>\n",
              "    </tr>\n",
              "    <tr>\n",
              "      <th>590831</th>\n",
              "      <td>1800</td>\n",
              "      <td>61</td>\n",
              "      <td>F</td>\n",
              "    </tr>\n",
              "  </tbody>\n",
              "</table>\n",
              "<p>590832 rows × 3 columns</p>\n",
              "</div>\n",
              "      <button class=\"colab-df-convert\" onclick=\"convertToInteractive('df-058444b4-f2ef-4ae1-9076-6eef0a0d3c1c')\"\n",
              "              title=\"Convert this dataframe to an interactive table.\"\n",
              "              style=\"display:none;\">\n",
              "        \n",
              "  <svg xmlns=\"http://www.w3.org/2000/svg\" height=\"24px\"viewBox=\"0 0 24 24\"\n",
              "       width=\"24px\">\n",
              "    <path d=\"M0 0h24v24H0V0z\" fill=\"none\"/>\n",
              "    <path d=\"M18.56 5.44l.94 2.06.94-2.06 2.06-.94-2.06-.94-.94-2.06-.94 2.06-2.06.94zm-11 1L8.5 8.5l.94-2.06 2.06-.94-2.06-.94L8.5 2.5l-.94 2.06-2.06.94zm10 10l.94 2.06.94-2.06 2.06-.94-2.06-.94-.94-2.06-.94 2.06-2.06.94z\"/><path d=\"M17.41 7.96l-1.37-1.37c-.4-.4-.92-.59-1.43-.59-.52 0-1.04.2-1.43.59L10.3 9.45l-7.72 7.72c-.78.78-.78 2.05 0 2.83L4 21.41c.39.39.9.59 1.41.59.51 0 1.02-.2 1.41-.59l7.78-7.78 2.81-2.81c.8-.78.8-2.07 0-2.86zM5.41 20L4 18.59l7.72-7.72 1.47 1.35L5.41 20z\"/>\n",
              "  </svg>\n",
              "      </button>\n",
              "      \n",
              "  <style>\n",
              "    .colab-df-container {\n",
              "      display:flex;\n",
              "      flex-wrap:wrap;\n",
              "      gap: 12px;\n",
              "    }\n",
              "\n",
              "    .colab-df-convert {\n",
              "      background-color: #E8F0FE;\n",
              "      border: none;\n",
              "      border-radius: 50%;\n",
              "      cursor: pointer;\n",
              "      display: none;\n",
              "      fill: #1967D2;\n",
              "      height: 32px;\n",
              "      padding: 0 0 0 0;\n",
              "      width: 32px;\n",
              "    }\n",
              "\n",
              "    .colab-df-convert:hover {\n",
              "      background-color: #E2EBFA;\n",
              "      box-shadow: 0px 1px 2px rgba(60, 64, 67, 0.3), 0px 1px 3px 1px rgba(60, 64, 67, 0.15);\n",
              "      fill: #174EA6;\n",
              "    }\n",
              "\n",
              "    [theme=dark] .colab-df-convert {\n",
              "      background-color: #3B4455;\n",
              "      fill: #D2E3FC;\n",
              "    }\n",
              "\n",
              "    [theme=dark] .colab-df-convert:hover {\n",
              "      background-color: #434B5C;\n",
              "      box-shadow: 0px 1px 3px 1px rgba(0, 0, 0, 0.15);\n",
              "      filter: drop-shadow(0px 1px 2px rgba(0, 0, 0, 0.3));\n",
              "      fill: #FFFFFF;\n",
              "    }\n",
              "  </style>\n",
              "\n",
              "      <script>\n",
              "        const buttonEl =\n",
              "          document.querySelector('#df-058444b4-f2ef-4ae1-9076-6eef0a0d3c1c button.colab-df-convert');\n",
              "        buttonEl.style.display =\n",
              "          google.colab.kernel.accessAllowed ? 'block' : 'none';\n",
              "\n",
              "        async function convertToInteractive(key) {\n",
              "          const element = document.querySelector('#df-058444b4-f2ef-4ae1-9076-6eef0a0d3c1c');\n",
              "          const dataTable =\n",
              "            await google.colab.kernel.invokeFunction('convertToInteractive',\n",
              "                                                     [key], {});\n",
              "          if (!dataTable) return;\n",
              "\n",
              "          const docLinkHtml = 'Like what you see? Visit the ' +\n",
              "            '<a target=\"_blank\" href=https://colab.research.google.com/notebooks/data_table.ipynb>data table notebook</a>'\n",
              "            + ' to learn more about interactive tables.';\n",
              "          element.innerHTML = '';\n",
              "          dataTable['output_type'] = 'display_data';\n",
              "          await google.colab.output.renderOutput(dataTable, element);\n",
              "          const docLink = document.createElement('div');\n",
              "          docLink.innerHTML = docLinkHtml;\n",
              "          element.appendChild(docLink);\n",
              "        }\n",
              "      </script>\n",
              "    </div>\n",
              "  </div>\n",
              "  "
            ]
          },
          "metadata": {},
          "execution_count": 3
        }
      ],
      "source": [
        "data=data.drop(['DR_NO', 'Date Rptd', 'DATE OCC', 'AREA', 'AREA NAME',\n",
        "       'Rpt Dist No', 'Part 1-2', 'Crm Cd', 'Crm Cd Desc', 'Mocodes', 'Premis Cd', 'Premis Desc',\n",
        "       'Weapon Used Cd', 'Weapon Desc', 'Status', 'Status Desc', 'Crm Cd 1',\n",
        "        'Crm Cd 2', 'Crm Cd 3', 'Crm Cd 4', 'LOCATION', 'Cross Street', 'LAT','LON','Vict Descent'],axis=1)\n",
        "data"
      ]
    },
    {
      "cell_type": "code",
      "execution_count": 4,
      "id": "27d170d0",
      "metadata": {
        "colab": {
          "base_uri": "https://localhost:8080/"
        },
        "id": "27d170d0",
        "outputId": "0d77ef81-15e8-4413-c78f-923d6d629a8f"
      },
      "outputs": [
        {
          "output_type": "execute_result",
          "data": {
            "text/plain": [
              "TIME OCC        0\n",
              "Vict Age        0\n",
              "Vict Sex    78158\n",
              "dtype: int64"
            ]
          },
          "metadata": {},
          "execution_count": 4
        }
      ],
      "source": [
        "data.isnull().sum(axis=0)"
      ]
    },
    {
      "cell_type": "code",
      "execution_count": 5,
      "id": "abd19b5d",
      "metadata": {
        "id": "abd19b5d"
      },
      "outputs": [],
      "source": [
        "data.dropna(inplace=True,how='any') \n"
      ]
    },
    {
      "cell_type": "code",
      "execution_count": 6,
      "id": "b479f57c",
      "metadata": {
        "colab": {
          "base_uri": "https://localhost:8080/"
        },
        "id": "b479f57c",
        "outputId": "33585763-24d1-4242-d075-3a5529cddae9"
      },
      "outputs": [
        {
          "output_type": "execute_result",
          "data": {
            "text/plain": [
              "0         F\n",
              "1         M\n",
              "2         X\n",
              "3         F\n",
              "4         X\n",
              "         ..\n",
              "590825    M\n",
              "590826    M\n",
              "590827    F\n",
              "590828    F\n",
              "590831    F\n",
              "Name: Vict Sex, Length: 512674, dtype: object"
            ]
          },
          "metadata": {},
          "execution_count": 6
        }
      ],
      "source": [
        "data['Vict Sex']"
      ]
    },
    {
      "cell_type": "code",
      "execution_count": 7,
      "id": "eeaa641b",
      "metadata": {
        "colab": {
          "base_uri": "https://localhost:8080/"
        },
        "id": "eeaa641b",
        "outputId": "e5d0add5-f5a0-4b96-ea50-bdc159492bd1"
      },
      "outputs": [
        {
          "output_type": "execute_result",
          "data": {
            "text/plain": [
              "0         36\n",
              "1         25\n",
              "2          0\n",
              "3         76\n",
              "4         31\n",
              "          ..\n",
              "590825    46\n",
              "590826    33\n",
              "590827    57\n",
              "590828    34\n",
              "590831    61\n",
              "Name: Vict Age, Length: 512674, dtype: int64"
            ]
          },
          "metadata": {},
          "execution_count": 7
        }
      ],
      "source": [
        "data['Vict Age']"
      ]
    },
    {
      "cell_type": "markdown",
      "source": [
        "#View basic statistical indicators of data"
      ],
      "metadata": {
        "id": "Az8-7urQK4k3"
      },
      "id": "Az8-7urQK4k3"
    },
    {
      "cell_type": "code",
      "execution_count": 8,
      "id": "8c8cd37d",
      "metadata": {
        "colab": {
          "base_uri": "https://localhost:8080/"
        },
        "id": "8c8cd37d",
        "outputId": "68983238-5067-478b-8266-c6cbcbb489d4"
      },
      "outputs": [
        {
          "output_type": "stream",
          "name": "stdout",
          "text": [
            "            TIME OCC       Vict Age\n",
            "count  512674.000000  512674.000000\n",
            "mean     1322.120892      34.542992\n",
            "std       654.746483      19.591708\n",
            "min         1.000000      -1.000000\n",
            "25%       900.000000      24.000000\n",
            "50%      1400.000000      34.000000\n",
            "75%      1845.000000      48.000000\n",
            "max      2359.000000      99.000000\n"
          ]
        }
      ],
      "source": [
        "print (data.describe()) "
      ]
    },
    {
      "cell_type": "code",
      "execution_count": 9,
      "id": "797bbed7",
      "metadata": {
        "id": "797bbed7"
      },
      "outputs": [],
      "source": [
        "data.drop(data[data['Vict Age'] < 1].index, axis=0, inplace=True)"
      ]
    },
    {
      "cell_type": "markdown",
      "source": [
        "##Check the frequency of Vict Age and Vict Sex\n"
      ],
      "metadata": {
        "id": "rGpPhMcjLF2v"
      },
      "id": "rGpPhMcjLF2v"
    },
    {
      "cell_type": "code",
      "execution_count": 10,
      "id": "28ff958a",
      "metadata": {
        "colab": {
          "base_uri": "https://localhost:8080/"
        },
        "id": "28ff958a",
        "outputId": "5b82a899-739b-4bee-d437-5d404ab6aeba"
      },
      "outputs": [
        {
          "output_type": "stream",
          "name": "stdout",
          "text": [
            "Vict Age    2    3    4    5    6    7    8    9   10   11  ...   91   92  93  \\\n",
            "Vict Sex                                                    ...                 \n",
            "F         116  146  182  192  176  201  205  248  268  427  ...   90   68  44   \n",
            "H           0    0    0    0    0    1    0    0    0    0  ...    0    0   0   \n",
            "M         147  145  145  170  169  159  163  190  198  275  ...   52   30  26   \n",
            "X          10   10    4    3    1    7    3    6   19    7  ...    2    2   0   \n",
            "All       273  301  331  365  346  368  371  444  485  709  ...  144  100  70   \n",
            "\n",
            "Vict Age  94  95  96  97  98   99     All  \n",
            "Vict Sex                                   \n",
            "F         49  36  31  23  21  100  215220  \n",
            "H          0   0   0   0   0    0      64  \n",
            "M         23  24  22  15  22  105  227350  \n",
            "X          1   0   0   0   2    3    4912  \n",
            "All       73  60  53  38  45  208  447546  \n",
            "\n",
            "[5 rows x 99 columns]\n"
          ]
        }
      ],
      "source": [
        "t = pd.crosstab(index=data['Vict Sex'], columns=data['Vict Age'],margins=True)\n",
        "print(t)"
      ]
    },
    {
      "cell_type": "markdown",
      "source": [
        "##Check the probability of each Vict Age and each Vict Sex"
      ],
      "metadata": {
        "id": "rVuAQb8iLPOb"
      },
      "id": "rVuAQb8iLPOb"
    },
    {
      "cell_type": "code",
      "execution_count": 11,
      "id": "c62d2586",
      "metadata": {
        "colab": {
          "base_uri": "https://localhost:8080/"
        },
        "id": "c62d2586",
        "outputId": "94324861-46f1-450f-a125-30799578d890"
      },
      "outputs": [
        {
          "output_type": "stream",
          "name": "stdout",
          "text": [
            "Vict Age        2         3         4         5         6         7   \\\n",
            "Vict Sex                                                               \n",
            "F         0.000539  0.000678  0.000846  0.000892  0.000818  0.000934   \n",
            "H         0.000000  0.000000  0.000000  0.000000  0.000000  0.015625   \n",
            "M         0.000647  0.000638  0.000638  0.000748  0.000743  0.000699   \n",
            "X         0.002036  0.002036  0.000814  0.000611  0.000204  0.001425   \n",
            "All       0.000610  0.000673  0.000740  0.000816  0.000773  0.000822   \n",
            "\n",
            "Vict Age        8         9         10        11  ...        90        91  \\\n",
            "Vict Sex                                          ...                       \n",
            "F         0.000953  0.001152  0.001245  0.001984  ...  0.000432  0.000418   \n",
            "H         0.000000  0.000000  0.000000  0.000000  ...  0.000000  0.000000   \n",
            "M         0.000717  0.000836  0.000871  0.001210  ...  0.000334  0.000229   \n",
            "X         0.000611  0.001221  0.003868  0.001425  ...  0.000000  0.000407   \n",
            "All       0.000829  0.000992  0.001084  0.001584  ...  0.000378  0.000322   \n",
            "\n",
            "Vict Age        92        93        94        95        96        97  \\\n",
            "Vict Sex                                                               \n",
            "F         0.000316  0.000204  0.000228  0.000167  0.000144  0.000107   \n",
            "H         0.000000  0.000000  0.000000  0.000000  0.000000  0.000000   \n",
            "M         0.000132  0.000114  0.000101  0.000106  0.000097  0.000066   \n",
            "X         0.000407  0.000000  0.000204  0.000000  0.000000  0.000000   \n",
            "All       0.000223  0.000156  0.000163  0.000134  0.000118  0.000085   \n",
            "\n",
            "Vict Age        98        99  \n",
            "Vict Sex                      \n",
            "F         0.000098  0.000465  \n",
            "H         0.000000  0.000000  \n",
            "M         0.000097  0.000462  \n",
            "X         0.000407  0.000611  \n",
            "All       0.000101  0.000465  \n",
            "\n",
            "[5 rows x 98 columns]\n"
          ]
        }
      ],
      "source": [
        "t = pd.crosstab(index=data['Vict Sex'], columns=data['Vict Age'],margins=True,normalize='index')\n",
        "print(t)"
      ]
    },
    {
      "cell_type": "markdown",
      "source": [
        "##Check the probability of each Vict Age and Vict Sex"
      ],
      "metadata": {
        "id": "U-HArsjQLmy6"
      },
      "id": "U-HArsjQLmy6"
    },
    {
      "cell_type": "code",
      "execution_count": 12,
      "id": "a0abf81b",
      "metadata": {
        "colab": {
          "base_uri": "https://localhost:8080/"
        },
        "id": "a0abf81b",
        "outputId": "3336dc5a-006c-4faa-ea49-9f6e908abbc2"
      },
      "outputs": [
        {
          "output_type": "stream",
          "name": "stdout",
          "text": [
            "Vict Age         2         3         4         5         6         7  \\\n",
            "Vict Sex                                                               \n",
            "F         0.424908  0.485050  0.549849  0.526027  0.508671  0.546196   \n",
            "H         0.000000  0.000000  0.000000  0.000000  0.000000  0.002717   \n",
            "M         0.538462  0.481728  0.438066  0.465753  0.488439  0.432065   \n",
            "X         0.036630  0.033223  0.012085  0.008219  0.002890  0.019022   \n",
            "\n",
            "Vict Age         8         9        10        11  ...        91    92  \\\n",
            "Vict Sex                                          ...                   \n",
            "F         0.552561  0.558559  0.552577  0.602257  ...  0.625000  0.68   \n",
            "H         0.000000  0.000000  0.000000  0.000000  ...  0.000000  0.00   \n",
            "M         0.439353  0.427928  0.408247  0.387870  ...  0.361111  0.30   \n",
            "X         0.008086  0.013514  0.039175  0.009873  ...  0.013889  0.02   \n",
            "\n",
            "Vict Age        93        94   95        96        97        98        99  \\\n",
            "Vict Sex                                                                    \n",
            "F         0.628571  0.671233  0.6  0.584906  0.605263  0.466667  0.480769   \n",
            "H         0.000000  0.000000  0.0  0.000000  0.000000  0.000000  0.000000   \n",
            "M         0.371429  0.315068  0.4  0.415094  0.394737  0.488889  0.504808   \n",
            "X         0.000000  0.013699  0.0  0.000000  0.000000  0.044444  0.014423   \n",
            "\n",
            "Vict Age       All  \n",
            "Vict Sex            \n",
            "F         0.480889  \n",
            "H         0.000143  \n",
            "M         0.507992  \n",
            "X         0.010975  \n",
            "\n",
            "[4 rows x 99 columns]\n"
          ]
        }
      ],
      "source": [
        "t = pd.crosstab(index=data['Vict Sex'], columns=data['Vict Age'],margins=True,normalize='columns')\n",
        "print(t)"
      ]
    },
    {
      "cell_type": "code",
      "source": [
        "data['Vict Sex'].value_counts().plot(kind='bar', title='Victims by Sex');\n",
        "data['Vict Sex'].value_counts() / data.shape[0]"
      ],
      "metadata": {
        "colab": {
          "base_uri": "https://localhost:8080/",
          "height": 367
        },
        "id": "dPqgr6y2NXwV",
        "outputId": "a9ab2459-f868-4638-b318-be2f0af66bbd"
      },
      "id": "dPqgr6y2NXwV",
      "execution_count": 13,
      "outputs": [
        {
          "output_type": "execute_result",
          "data": {
            "text/plain": [
              "M    0.507992\n",
              "F    0.480889\n",
              "X    0.010975\n",
              "H    0.000143\n",
              "Name: Vict Sex, dtype: float64"
            ]
          },
          "metadata": {},
          "execution_count": 13
        },
        {
          "output_type": "display_data",
          "data": {
            "text/plain": [
              "<Figure size 432x288 with 1 Axes>"
            ],
            "image/png": "[encoded data removed]"
          },
          "metadata": {
            "needs_background": "light"
          }
        }
      ]
    },
    {
      "cell_type": "code",
      "execution_count": null,
      "id": "dddb7e55",
      "metadata": {
        "id": "dddb7e55"
      },
      "outputs": [],
      "source": [
        "#def gender_to_numeric(x):\n",
        "#        if x=='M': return 3\n",
        "#        if x=='F': return 2\n",
        "#        if x=='X': return 1\n",
        "#        if x=='H': return 0\n",
        "#\n",
        "#data['Vict Sex'] = data['Vict Sex'].apply(gender_to_numeric)\n",
        "#data['Vict Sex'].unique()"
      ]
    },
    {
      "cell_type": "code",
      "source": [],
      "metadata": {
        "id": "H5irn0iCL-sd"
      },
      "id": "H5irn0iCL-sd",
      "execution_count": null,
      "outputs": []
    },
    {
      "cell_type": "markdown",
      "source": [
        "Here the sorted Vict sex type is 0-3, in order to be consistent with the histogram order generated by countplot() below, and then you can add numeric labels to the histogram in the same order"
      ],
      "metadata": {
        "id": "1Z81dfHyL-zP"
      },
      "id": "1Z81dfHyL-zP"
    },
    {
      "cell_type": "code",
      "execution_count": 14,
      "id": "df5ab235",
      "metadata": {
        "colab": {
          "base_uri": "https://localhost:8080/"
        },
        "id": "df5ab235",
        "outputId": "a2954e4b-6676-4d7e-b8ba-d4b791246473"
      },
      "outputs": [
        {
          "output_type": "stream",
          "name": "stdout",
          "text": [
            "  Sex_type  counts\n",
            "1        F  215220\n",
            "3        H      64\n",
            "0        M  227350\n",
            "2        X    4912\n"
          ]
        }
      ],
      "source": [
        "a = data['Vict Sex'].value_counts()\n",
        "b = pd.DataFrame({'Sex_type':pd.Series(a.index),\n",
        "                 'counts':pd.Series(a.values)})\n",
        "b = b.sort_values(by='Sex_type',ascending=True)#这里排序后prestige_type为1~4，目的是为了和下面countplot()函数生成的柱状图顺序保持一致，然后就可以按相同顺序给柱状图添加数值标签\n",
        "print(b)"
      ]
    },
    {
      "cell_type": "code",
      "execution_count": 15,
      "id": "dc5ed012",
      "metadata": {
        "colab": {
          "base_uri": "https://localhost:8080/",
          "height": 1000
        },
        "id": "dc5ed012",
        "outputId": "6b1f6245-2fb6-4275-c562-abe8120c4721"
      },
      "outputs": [
        {
          "output_type": "display_data",
          "data": {
            "text/plain": [
              "<Figure size 2880x2880 with 1 Axes>"
            ],
            "image/png": "[encoded data removed]"
          },
          "metadata": {
            "needs_background": "light"
          }
        }
      ],
      "source": [
        "import matplotlib.pyplot as plt\n",
        "import seaborn as sns\n",
        "plt.rcParams['figure.figsize'] = [40, 40]\n",
        "\n",
        "a = data['Vict Age'].value_counts()\n",
        "b = pd.DataFrame({'Age_type':pd.Series(a.index),\n",
        "                 'counts':pd.Series(a.values)})\n",
        "b = b.sort_values(by='Age_type',ascending=True)\n",
        "import matplotlib.pyplot as plt\n",
        "import seaborn as sns\n",
        "ax = sns.countplot(x='Vict Age',data=data,palette='Set1')\n",
        "for x,y in zip(b.Age_type,b.counts):\n",
        "    plt.text(x-1,y+3,str(y),horizontalalignment='center',verticalalignment='center')"
      ]
    },
    {
      "cell_type": "markdown",
      "source": [
        "##Plot the frequency distribution of the age of the victim"
      ],
      "metadata": {
        "id": "LdrDbCkAMIJ1"
      },
      "id": "LdrDbCkAMIJ1"
    },
    {
      "cell_type": "code",
      "execution_count": 16,
      "id": "f3512648",
      "metadata": {
        "colab": {
          "base_uri": "https://localhost:8080/",
          "height": 353
        },
        "id": "f3512648",
        "outputId": "b302653f-5adc-460c-a6b5-fed426283227"
      },
      "outputs": [
        {
          "output_type": "execute_result",
          "data": {
            "text/plain": [
              "Text(0.5, 1.0, 'Boxplot of age')"
            ]
          },
          "metadata": {},
          "execution_count": 16
        },
        {
          "output_type": "display_data",
          "data": {
            "text/plain": [
              "<Figure size 360x360 with 1 Axes>"
            ],
            "image/png": "[encoded data removed]"
          },
          "metadata": {
            "needs_background": "light"
          }
        }
      ],
      "source": [
        "plt.rcParams['figure.figsize'] = [5, 5]\n",
        "plt.boxplot(x = data['Vict Age'],vert = False)\n",
        "plt.title('Boxplot of age')"
      ]
    },
    {
      "cell_type": "markdown",
      "source": [
        "##Plot the frequency distribution of the Time Occ\n"
      ],
      "metadata": {
        "id": "FGpPGKAZMHYK"
      },
      "id": "FGpPGKAZMHYK"
    },
    {
      "cell_type": "code",
      "execution_count": 17,
      "id": "559254db",
      "metadata": {
        "colab": {
          "base_uri": "https://localhost:8080/",
          "height": 353
        },
        "id": "559254db",
        "outputId": "ca210bb1-a143-4c05-9641-9ed6e1104650"
      },
      "outputs": [
        {
          "output_type": "execute_result",
          "data": {
            "text/plain": [
              "Text(0.5, 1.0, 'Boxplot of time')"
            ]
          },
          "metadata": {},
          "execution_count": 17
        },
        {
          "output_type": "display_data",
          "data": {
            "text/plain": [
              "<Figure size 360x360 with 1 Axes>"
            ],
            "image/png": "[encoded data removed]"
          },
          "metadata": {
            "needs_background": "light"
          }
        }
      ],
      "source": [
        "import matplotlib.pyplot as plt\n",
        "plt.boxplot(x = data['TIME OCC'],vert = False)\n",
        "plt.title('Boxplot of time')"
      ]
    },
    {
      "cell_type": "markdown",
      "source": [
        "#Use logistic regression for modeling"
      ],
      "metadata": {
        "id": "m-wLpauqMPqC"
      },
      "id": "m-wLpauqMPqC"
    },
    {
      "cell_type": "code",
      "execution_count": 18,
      "id": "e8e75401",
      "metadata": {
        "id": "e8e75401"
      },
      "outputs": [],
      "source": [
        "from sklearn.model_selection import train_test_split\n",
        "\n",
        "#data['gender'] = data.gender.map({'M':0,'F':1})\n",
        "\n",
        "col = ['Vict Age','TIME OCC']\n",
        "x = data[col]\n",
        "y = data['Vict Sex']"
      ]
    },
    {
      "cell_type": "markdown",
      "source": [
        "##Training and Testing"
      ],
      "metadata": {
        "id": "lWVOVXrGM7aD"
      },
      "id": "lWVOVXrGM7aD"
    },
    {
      "cell_type": "code",
      "execution_count": 19,
      "id": "dd563468",
      "metadata": {
        "id": "dd563468"
      },
      "outputs": [],
      "source": [
        "x_train,x_test,y_train,y_test = train_test_split(x,y,test_size=0.2,random_state=1)\n"
      ]
    },
    {
      "cell_type": "code",
      "execution_count": 20,
      "id": "c0e29866",
      "metadata": {
        "colab": {
          "base_uri": "https://localhost:8080/"
        },
        "id": "c0e29866",
        "outputId": "b73d2c5b-95cb-42e0-bdc7-f0b2eb693924"
      },
      "outputs": [
        {
          "output_type": "execute_result",
          "data": {
            "text/plain": [
              "LogisticRegressionCV(class_weight='balanced', max_iter=1000,\n",
              "                     multi_class='multinomial')"
            ]
          },
          "metadata": {},
          "execution_count": 20
        }
      ],
      "source": [
        "import sklearn.linear_model as sk\n",
        "\n",
        "logreg = sk.LogisticRegressionCV(multi_class='multinomial',solver='lbfgs',class_weight='balanced',max_iter=1000)\n",
        "logreg.fit(x_train,y_train)"
      ]
    },
    {
      "cell_type": "markdown",
      "source": [
        "##Model of fit"
      ],
      "metadata": {
        "id": "epDKZlfENJAT"
      },
      "id": "epDKZlfENJAT"
    },
    {
      "cell_type": "code",
      "execution_count": 21,
      "id": "137f01b5",
      "metadata": {
        "colab": {
          "base_uri": "https://localhost:8080/"
        },
        "id": "137f01b5",
        "outputId": "75a08c95-4cb4-4333-bb74-d1176a97c637"
      },
      "outputs": [
        {
          "output_type": "stream",
          "name": "stdout",
          "text": [
            "0.28023718285312094\n"
          ]
        }
      ],
      "source": [
        "#lr = LogisticRegression(multi_class='multinomial',solver='lbfgs',class_weight='balanced',max_iter=1000)\n",
        "#For multiclass problems, only 'newton-cg', 'sag', 'saga' and 'lbfgs' handle multinomial loss\n",
        "#lr.fit(x_train,y_train) \n",
        "score = logreg.score(x_train,y_train)\n",
        "print(score)\n",
        "\n"
      ]
    },
    {
      "cell_type": "markdown",
      "source": [
        "##Coefficient of independent variable"
      ],
      "metadata": {
        "id": "NFuH58eWNTir"
      },
      "id": "NFuH58eWNTir"
    },
    {
      "cell_type": "code",
      "execution_count": 22,
      "id": "c45bd6fa",
      "metadata": {
        "colab": {
          "base_uri": "https://localhost:8080/"
        },
        "id": "c45bd6fa",
        "outputId": "0c653df8-39f7-4ac1-c422-6236ecd7d521"
      },
      "outputs": [
        {
          "output_type": "stream",
          "name": "stdout",
          "text": [
            "[[ 2.42254219e-02 -9.35846714e-05]\n",
            " [ 2.67750534e-02  1.00594210e-04]\n",
            " [ 3.41814426e-02 -1.03649734e-05]\n",
            " [-8.51819179e-02  3.35543356e-06]]\n"
          ]
        }
      ],
      "source": [
        "print(logreg.coef_)\n"
      ]
    },
    {
      "cell_type": "markdown",
      "source": [
        "##View the intercept item"
      ],
      "metadata": {
        "id": "SUsu1ZfxNXrh"
      },
      "id": "SUsu1ZfxNXrh"
    },
    {
      "cell_type": "code",
      "execution_count": 23,
      "id": "e7384e51",
      "metadata": {
        "colab": {
          "base_uri": "https://localhost:8080/"
        },
        "id": "e7384e51",
        "outputId": "aae443ba-b5ca-474e-f628-8ac6b817bda7"
      },
      "outputs": [
        {
          "output_type": "stream",
          "name": "stdout",
          "text": [
            "[-0.54484284 -0.91579757 -1.06339883  2.52403924]\n"
          ]
        }
      ],
      "source": [
        "print(logreg.intercept_)\n"
      ]
    },
    {
      "cell_type": "markdown",
      "source": [
        "##Rank of importance of variables\n",
        "\n",
        "###To measure the importance of a variable, the absolute value of the coefficient of a variable is mainly considered. The larger the absolute value of the coefficient is, the greater the influence of the variable on y."
      ],
      "metadata": {
        "id": "3rgYpcs4NiU9"
      },
      "id": "3rgYpcs4NiU9"
    },
    {
      "cell_type": "code",
      "execution_count": 24,
      "id": "75cf3492",
      "metadata": {
        "colab": {
          "base_uri": "https://localhost:8080/"
        },
        "id": "75cf3492",
        "outputId": "5450a15c-3405-4fcb-99c3-6c4f97f0b9c5"
      },
      "outputs": [
        {
          "output_type": "stream",
          "name": "stdout",
          "text": [
            "        var  coef_abs\n",
            "0  Vict Age  0.024225\n",
            "1  TIME OCC  0.000094\n"
          ]
        }
      ],
      "source": [
        "coef_c1 = pd.DataFrame({'var' : pd.Series(x_test.columns),\n",
        "                        'coef_abs' : abs(pd.Series(logreg.coef_[0].flatten()))\n",
        "                        })\n",
        "coef_c1 = coef_c1.sort_values(by = 'coef_abs',ascending=False)\n",
        "print(coef_c1)"
      ]
    },
    {
      "cell_type": "markdown",
      "source": [
        "It can be seen that for classification model 1, Vict Age has the greatest impact on y."
      ],
      "metadata": {
        "id": "QpWD0th7NspE"
      },
      "id": "QpWD0th7NspE"
    },
    {
      "cell_type": "code",
      "execution_count": 25,
      "id": "719e92df",
      "metadata": {
        "colab": {
          "base_uri": "https://localhost:8080/"
        },
        "id": "719e92df",
        "outputId": "9474c1aa-0e0c-48fb-d3c3-f8024169633c"
      },
      "outputs": [
        {
          "output_type": "stream",
          "name": "stdout",
          "text": [
            "        var  coef_abs\n",
            "0  Vict Age  0.026775\n",
            "1  TIME OCC  0.000101\n"
          ]
        }
      ],
      "source": [
        "coef_c2 = pd.DataFrame({'var' : pd.Series(x_test.columns),\n",
        "                        'coef_abs' : abs(pd.Series(logreg.coef_[1].flatten()))\n",
        "                        })\n",
        "coef_c2 = coef_c2.sort_values(by = 'coef_abs',ascending=False)\n",
        "print(coef_c2)"
      ]
    },
    {
      "cell_type": "markdown",
      "source": [
        "Look at the importance of the respective variables in Model 2 Vict Age has the greatest impact on y too"
      ],
      "metadata": {
        "id": "KBBZaYw4N2et"
      },
      "id": "KBBZaYw4N2et"
    },
    {
      "cell_type": "code",
      "execution_count": 26,
      "id": "ca872931",
      "metadata": {
        "colab": {
          "base_uri": "https://localhost:8080/"
        },
        "id": "ca872931",
        "outputId": "528c855d-8bb2-48e6-eb0a-5b2269771da1"
      },
      "outputs": [
        {
          "output_type": "stream",
          "name": "stdout",
          "text": [
            "        var  coef_abs\n",
            "0  Vict Age  0.034181\n",
            "1  TIME OCC  0.000010\n"
          ]
        }
      ],
      "source": [
        "coef_c3 = pd.DataFrame({'var' : pd.Series(x_test.columns),\n",
        "                        'coef_abs' : abs(pd.Series(logreg.coef_[2].flatten()))\n",
        "                        })\n",
        "coef_c3 = coef_c3.sort_values(by = 'coef_abs',ascending=False)\n",
        "print(coef_c3)"
      ]
    },
    {
      "cell_type": "markdown",
      "source": [
        "#Evaluation of model"
      ],
      "metadata": {
        "id": "Rxqhod1UOF54"
      },
      "id": "Rxqhod1UOF54"
    },
    {
      "cell_type": "markdown",
      "source": [
        "##Score of model"
      ],
      "metadata": {
        "id": "Nq7OPlvjOLQS"
      },
      "id": "Nq7OPlvjOLQS"
    },
    {
      "cell_type": "code",
      "execution_count": 27,
      "id": "41139093",
      "metadata": {
        "colab": {
          "base_uri": "https://localhost:8080/"
        },
        "id": "41139093",
        "outputId": "5d4306df-1ef0-455b-f195-639592cd7508"
      },
      "outputs": [
        {
          "output_type": "stream",
          "name": "stdout",
          "text": [
            "0.28023718285312094\n",
            "0.28023718285312094\n",
            "0.2814881018880572\n"
          ]
        }
      ],
      "source": [
        "from sklearn.metrics import accuracy_score\n",
        "\n",
        "score = logreg.score(x_train,y_train)#Return the mean accuracy on the given test data and labels.\n",
        "print(score)\n",
        "\n",
        "#The score of the model on the training set\n",
        "train_score = accuracy_score(y_train,logreg.predict(x_train))\n",
        "print(train_score)\n",
        "\n",
        "#The score of the model on the testing set\n",
        "test_score = logreg.score(x_test,y_test)\n",
        "print(test_score)"
      ]
    },
    {
      "cell_type": "markdown",
      "source": [
        "##Rate of recall"
      ],
      "metadata": {
        "id": "DZX6UJnpOURT"
      },
      "id": "DZX6UJnpOURT"
    },
    {
      "cell_type": "code",
      "execution_count": 28,
      "id": "db04e691",
      "metadata": {
        "colab": {
          "base_uri": "https://localhost:8080/"
        },
        "id": "db04e691",
        "outputId": "68c38fc5-e717-47d7-9faf-33aefb7d4377"
      },
      "outputs": [
        {
          "output_type": "stream",
          "name": "stdout",
          "text": [
            "0.41440500375415623\n",
            "0.3904850068016241\n"
          ]
        }
      ],
      "source": [
        "from sklearn.metrics import recall_score\n",
        "\n",
        "#Rate of recall of tranning\n",
        "train_recall = recall_score(y_train, logreg.predict(x_train), average='macro')\n",
        "print(train_recall)#0.47934382086167804\n",
        "#Rate of recall of testing\n",
        "test_recall = recall_score(y_test, logreg.predict(x_test), average='macro')\n",
        "print(test_recall)#0.5002736726874658\n"
      ]
    },
    {
      "cell_type": "markdown",
      "source": [
        "#Forecasting\n"
      ],
      "metadata": {
        "id": "byam967QOwQk"
      },
      "id": "byam967QOwQk"
    },
    {
      "cell_type": "markdown",
      "source": [
        "##The prediction sample belongs to each category of probability\n"
      ],
      "metadata": {
        "id": "85Ahhli7PXTE"
      },
      "id": "85Ahhli7PXTE"
    },
    {
      "cell_type": "code",
      "execution_count": 29,
      "id": "35eaba3e",
      "metadata": {
        "colab": {
          "base_uri": "https://localhost:8080/"
        },
        "id": "35eaba3e",
        "outputId": "c651d094-e681-49f8-c20a-b44f2a09c876"
      },
      "outputs": [
        {
          "output_type": "stream",
          "name": "stdout",
          "text": [
            "[[0.30748202 0.27987034 0.28613391 0.12651373]\n",
            " [0.23213569 0.22904674 0.20284703 0.33597054]\n",
            " [0.23414328 0.27457878 0.22625624 0.2650217 ]\n",
            " ...\n",
            " [0.28298677 0.20977369 0.22267114 0.2845684 ]\n",
            " [0.27016745 0.31327065 0.27643786 0.14012404]\n",
            " [0.28298677 0.20977369 0.22267114 0.2845684 ]]\n"
          ]
        }
      ],
      "source": [
        "y_pro = logreg.predict_proba(x_test) \n",
        "print(y_pro)"
      ]
    },
    {
      "cell_type": "markdown",
      "source": [
        "## Which specific category the prediction sample belongs to"
      ],
      "metadata": {
        "id": "nX8p-FE6PcdQ"
      },
      "id": "nX8p-FE6PcdQ"
    },
    {
      "cell_type": "code",
      "execution_count": 30,
      "id": "cd4285bb",
      "metadata": {
        "colab": {
          "base_uri": "https://localhost:8080/"
        },
        "id": "cd4285bb",
        "outputId": "ccd9b53d-264c-4541-eb75-d1eb150f30ea"
      },
      "outputs": [
        {
          "output_type": "stream",
          "name": "stdout",
          "text": [
            "['F' 'X' 'H' ... 'X' 'H' 'X']\n"
          ]
        }
      ],
      "source": [
        "y_predict = logreg.predict(x_test)\n",
        "print(y_predict)"
      ]
    },
    {
      "cell_type": "markdown",
      "source": [
        "##Matrix of confusion"
      ],
      "metadata": {
        "id": "HbyYWSynPzbK"
      },
      "id": "HbyYWSynPzbK"
    },
    {
      "cell_type": "code",
      "execution_count": 31,
      "id": "5f69dc89",
      "metadata": {
        "colab": {
          "base_uri": "https://localhost:8080/"
        },
        "id": "5f69dc89",
        "outputId": "697d7f46-3a5b-488f-8a01-6c219b36a362"
      },
      "outputs": [
        {
          "output_type": "stream",
          "name": "stdout",
          "text": [
            "      F     H      M      X\n",
            "F  8943  8271  12308  13366\n",
            "H     4     2      2      4\n",
            "M  9412  9509  15420  11290\n",
            "X    50    58     40    831\n"
          ]
        }
      ],
      "source": [
        "from sklearn.preprocessing import LabelEncoder\n",
        "from sklearn.metrics import confusion_matrix\n",
        "import pandas as pd\n",
        "labelEncoder = LabelEncoder()\n",
        "labelEncoder.fit(y)##Hardcode the variable y to turn the label into a number\n",
        "cm = confusion_matrix(y_test, y_predict)\n",
        "cm_pd = pd.DataFrame(data = cm,columns=labelEncoder.classes_, index=labelEncoder.classes_)\n",
        "print(cm_pd)"
      ]
    },
    {
      "cell_type": "markdown",
      "source": [
        "##Draw the confusion matrix graph"
      ],
      "metadata": {
        "id": "fP6uuJkmP3Qv"
      },
      "id": "fP6uuJkmP3Qv"
    },
    {
      "cell_type": "code",
      "execution_count": 32,
      "id": "becabd72",
      "metadata": {
        "colab": {
          "base_uri": "https://localhost:8080/",
          "height": 327
        },
        "id": "becabd72",
        "outputId": "48d829b1-eb35-4ca0-d8ed-9e5d58477cde"
      },
      "outputs": [
        {
          "output_type": "execute_result",
          "data": {
            "text/plain": [
              "Text(0.5, 0, 'Forecast type')"
            ]
          },
          "metadata": {},
          "execution_count": 32
        },
        {
          "output_type": "display_data",
          "data": {
            "text/plain": [
              "<Figure size 360x360 with 2 Axes>"
            ],
            "image/png": "[encoded data removed]"
          },
          "metadata": {
            "needs_background": "light"
          }
        }
      ],
      "source": [
        "import matplotlib.pyplot as plt\n",
        "plt.matshow(confusion_matrix(y_test, y_predict))\n",
        "plt.title('Confusion matrix')\n",
        "plt.colorbar()\n",
        "plt.ylabel('Actual type') \n",
        "plt.xlabel('Forecast type')"
      ]
    },
    {
      "cell_type": "code",
      "execution_count": 33,
      "id": "66f0d569",
      "metadata": {
        "id": "66f0d569",
        "outputId": "f11d3907-096f-4eb5-8ec6-5ebcdb9c5678",
        "colab": {
          "base_uri": "https://localhost:8080/"
        }
      },
      "outputs": [
        {
          "output_type": "stream",
          "name": "stdout",
          "text": [
            "Test data Index:\n",
            "               precision    recall  f1-score   support\n",
            "\n",
            "           F     0.4858    0.2085    0.2918     42888\n",
            "           H     0.0001    0.1667    0.0002        12\n",
            "           M     0.5553    0.3379    0.4202     45631\n",
            "           X     0.0326    0.8488    0.0628       979\n",
            "\n",
            "    accuracy                         0.2815     89510\n",
            "   macro avg     0.2684    0.3905    0.1937     89510\n",
            "weighted avg     0.5162    0.2815    0.3547     89510\n",
            "\n"
          ]
        }
      ],
      "source": [
        "from sklearn.metrics import classification_report\n",
        "print('Test data Index:\\n',classification_report(y_test,y_predict,digits=4))"
      ]
    },
    {
      "cell_type": "code",
      "execution_count": null,
      "id": "14eded23",
      "metadata": {
        "id": "14eded23"
      },
      "outputs": [],
      "source": []
    }
  ],
  "metadata": {
    "kernelspec": {
      "display_name": "Python 3 (ipykernel)",
      "language": "python",
      "name": "python3"
    },
    "language_info": {
      "codemirror_mode": {
        "name": "ipython",
        "version": 3
      },
      "file_extension": ".py",
      "mimetype": "text/x-python",
      "name": "python",
      "nbconvert_exporter": "python",
      "pygments_lexer": "ipython3",
      "version": "3.9.13"
    },
    "colab": {
      "provenance": []
    }
  },
  "nbformat": 4,
  "nbformat_minor": 5
}